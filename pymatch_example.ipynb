{
 "cells": [
  {
   "cell_type": "markdown",
   "metadata": {},
   "source": [
    "In my case: I needed downgrade to pandas =0.23.4: for that I have **separate environment**\n",
    "\n",
    "Link: https://stackoverflow.com/questions/55656401/pymatch-giving-error-when-fitting-unable-to-coerce-to-series-length-must-be-1\n",
    "\n",
    "https://proglib.io/p/analysis-hacks"
   ]
  },
  {
   "cell_type": "code",
   "execution_count": 307,
   "metadata": {},
   "outputs": [
    {
     "name": "stdout",
     "output_type": "stream",
     "text": [
      "The autoreload extension is already loaded. To reload it, use:\n",
      "  %reload_ext autoreload\n"
     ]
    }
   ],
   "source": [
    "import matplotlib.pyplot as plt\n",
    "%load_ext autoreload\n",
    "%autoreload 2\n",
    "%matplotlib inline\n",
    "\n",
    "import warnings\n",
    "warnings.filterwarnings('ignore')\n",
    "from pymatch.Matcher import Matcher\n",
    "import pandas as pd\n",
    "import numpy as np\n",
    "\n",
    "from sklearn.preprocessing import StandardScaler,OneHotEncoder\n",
    "from sklearn.neighbors import BallTree,NearestNeighbors\n",
    "\n",
    "from sklearn.utils import resample"
   ]
  },
  {
   "cell_type": "markdown",
   "metadata": {},
   "source": [
    "### Settings"
   ]
  },
  {
   "cell_type": "markdown",
   "metadata": {},
   "source": [
    "dataset type setting"
   ]
  },
  {
   "cell_type": "code",
   "execution_count": 308,
   "metadata": {},
   "outputs": [],
   "source": [
    "path_to_loan_data = \"datasets/loan.csv\"\n",
    "path_to_catholic_vs_math_data = \"datasets/catholic_school_vs_math.csv\""
   ]
  },
  {
   "cell_type": "code",
   "execution_count": 309,
   "metadata": {},
   "outputs": [],
   "source": [
    "path = path_to_catholic_vs_math_data"
   ]
  },
  {
   "cell_type": "markdown",
   "metadata": {},
   "source": [
    "other"
   ]
  },
  {
   "cell_type": "code",
   "execution_count": 310,
   "metadata": {},
   "outputs": [],
   "source": [
    "if (path == path_to_catholic_vs_math_data):\n",
    "    k = 4"
   ]
  },
  {
   "cell_type": "code",
   "execution_count": 311,
   "metadata": {},
   "outputs": [],
   "source": [
    "sumulations_n = 500\n",
    "rr = 1"
   ]
  },
  {
   "cell_type": "code",
   "execution_count": 312,
   "metadata": {},
   "outputs": [
    {
     "data": {
      "text/html": [
       "<div>\n",
       "<style scoped>\n",
       "    .dataframe tbody tr th:only-of-type {\n",
       "        vertical-align: middle;\n",
       "    }\n",
       "\n",
       "    .dataframe tbody tr th {\n",
       "        vertical-align: top;\n",
       "    }\n",
       "\n",
       "    .dataframe thead th {\n",
       "        text-align: right;\n",
       "    }\n",
       "</style>\n",
       "<table border=\"1\" class=\"dataframe\">\n",
       "  <thead>\n",
       "    <tr style=\"text-align: right;\">\n",
       "      <th></th>\n",
       "      <th>childid</th>\n",
       "      <th>catholic</th>\n",
       "      <th>race</th>\n",
       "      <th>race_white</th>\n",
       "      <th>race_black</th>\n",
       "      <th>race_hispanic</th>\n",
       "      <th>race_asian</th>\n",
       "      <th>p5numpla</th>\n",
       "      <th>p5hmage</th>\n",
       "      <th>p5hdage</th>\n",
       "      <th>...</th>\n",
       "      <th>w3daded_hsb</th>\n",
       "      <th>w3momed_hsb</th>\n",
       "      <th>w3momscr</th>\n",
       "      <th>w3dadscr</th>\n",
       "      <th>w3inccat</th>\n",
       "      <th>w3income</th>\n",
       "      <th>w3povrty</th>\n",
       "      <th>p5fstamp</th>\n",
       "      <th>c5r2mtsc</th>\n",
       "      <th>c5r2mtsc_std</th>\n",
       "    </tr>\n",
       "  </thead>\n",
       "  <tbody>\n",
       "    <tr>\n",
       "      <th>0</th>\n",
       "      <td>0001002C</td>\n",
       "      <td>0</td>\n",
       "      <td>WHITE, NON-HISPANIC</td>\n",
       "      <td>1</td>\n",
       "      <td>0</td>\n",
       "      <td>0</td>\n",
       "      <td>0</td>\n",
       "      <td>1.000</td>\n",
       "      <td>47.000</td>\n",
       "      <td>45.000</td>\n",
       "      <td>...</td>\n",
       "      <td>0.000</td>\n",
       "      <td>0.000</td>\n",
       "      <td>53.500</td>\n",
       "      <td>77.500</td>\n",
       "      <td>$50,001 TO $75,000</td>\n",
       "      <td>62,500.500</td>\n",
       "      <td>0.000</td>\n",
       "      <td>0.000</td>\n",
       "      <td>60.043</td>\n",
       "      <td>0.982</td>\n",
       "    </tr>\n",
       "    <tr>\n",
       "      <th>1</th>\n",
       "      <td>0001004C</td>\n",
       "      <td>0</td>\n",
       "      <td>WHITE, NON-HISPANIC</td>\n",
       "      <td>1</td>\n",
       "      <td>0</td>\n",
       "      <td>0</td>\n",
       "      <td>0</td>\n",
       "      <td>1.000</td>\n",
       "      <td>41.000</td>\n",
       "      <td>48.000</td>\n",
       "      <td>...</td>\n",
       "      <td>0.000</td>\n",
       "      <td>0.000</td>\n",
       "      <td>34.950</td>\n",
       "      <td>53.500</td>\n",
       "      <td>$40,001 TO $50,000</td>\n",
       "      <td>45,000.500</td>\n",
       "      <td>0.000</td>\n",
       "      <td>0.000</td>\n",
       "      <td>56.280</td>\n",
       "      <td>0.594</td>\n",
       "    </tr>\n",
       "    <tr>\n",
       "      <th>2</th>\n",
       "      <td>0001005C</td>\n",
       "      <td>0</td>\n",
       "      <td>WHITE, NON-HISPANIC</td>\n",
       "      <td>1</td>\n",
       "      <td>0</td>\n",
       "      <td>0</td>\n",
       "      <td>0</td>\n",
       "      <td>nan</td>\n",
       "      <td>nan</td>\n",
       "      <td>nan</td>\n",
       "      <td>...</td>\n",
       "      <td>nan</td>\n",
       "      <td>nan</td>\n",
       "      <td>nan</td>\n",
       "      <td>nan</td>\n",
       "      <td>NaN</td>\n",
       "      <td>nan</td>\n",
       "      <td>nan</td>\n",
       "      <td>nan</td>\n",
       "      <td>53.791</td>\n",
       "      <td>0.338</td>\n",
       "    </tr>\n",
       "    <tr>\n",
       "      <th>3</th>\n",
       "      <td>0001010C</td>\n",
       "      <td>0</td>\n",
       "      <td>WHITE, NON-HISPANIC</td>\n",
       "      <td>1</td>\n",
       "      <td>0</td>\n",
       "      <td>0</td>\n",
       "      <td>0</td>\n",
       "      <td>1.000</td>\n",
       "      <td>43.000</td>\n",
       "      <td>55.000</td>\n",
       "      <td>...</td>\n",
       "      <td>0.000</td>\n",
       "      <td>0.000</td>\n",
       "      <td>63.430</td>\n",
       "      <td>53.500</td>\n",
       "      <td>$50,001 TO $75,000</td>\n",
       "      <td>62,500.500</td>\n",
       "      <td>0.000</td>\n",
       "      <td>0.000</td>\n",
       "      <td>55.272</td>\n",
       "      <td>0.491</td>\n",
       "    </tr>\n",
       "    <tr>\n",
       "      <th>4</th>\n",
       "      <td>0001011C</td>\n",
       "      <td>1</td>\n",
       "      <td>WHITE, NON-HISPANIC</td>\n",
       "      <td>1</td>\n",
       "      <td>0</td>\n",
       "      <td>0</td>\n",
       "      <td>0</td>\n",
       "      <td>1.000</td>\n",
       "      <td>38.000</td>\n",
       "      <td>39.000</td>\n",
       "      <td>...</td>\n",
       "      <td>0.000</td>\n",
       "      <td>0.000</td>\n",
       "      <td>53.500</td>\n",
       "      <td>53.500</td>\n",
       "      <td>$75,001 TO $100,000</td>\n",
       "      <td>87,500.500</td>\n",
       "      <td>0.000</td>\n",
       "      <td>0.000</td>\n",
       "      <td>64.604</td>\n",
       "      <td>1.451</td>\n",
       "    </tr>\n",
       "  </tbody>\n",
       "</table>\n",
       "<p>5 rows × 22 columns</p>\n",
       "</div>"
      ],
      "text/plain": [
       "    childid  catholic                 race  race_white  race_black  \\\n",
       "0  0001002C         0  WHITE, NON-HISPANIC           1           0   \n",
       "1  0001004C         0  WHITE, NON-HISPANIC           1           0   \n",
       "2  0001005C         0  WHITE, NON-HISPANIC           1           0   \n",
       "3  0001010C         0  WHITE, NON-HISPANIC           1           0   \n",
       "4  0001011C         1  WHITE, NON-HISPANIC           1           0   \n",
       "\n",
       "   race_hispanic  race_asian  p5numpla  p5hmage  p5hdage      ...       \\\n",
       "0              0           0     1.000   47.000   45.000      ...        \n",
       "1              0           0     1.000   41.000   48.000      ...        \n",
       "2              0           0       nan      nan      nan      ...        \n",
       "3              0           0     1.000   43.000   55.000      ...        \n",
       "4              0           0     1.000   38.000   39.000      ...        \n",
       "\n",
       "  w3daded_hsb w3momed_hsb  w3momscr  w3dadscr             w3inccat   w3income  \\\n",
       "0       0.000       0.000    53.500    77.500   $50,001 TO $75,000 62,500.500   \n",
       "1       0.000       0.000    34.950    53.500   $40,001 TO $50,000 45,000.500   \n",
       "2         nan         nan       nan       nan                  NaN        nan   \n",
       "3       0.000       0.000    63.430    53.500   $50,001 TO $75,000 62,500.500   \n",
       "4       0.000       0.000    53.500    53.500  $75,001 TO $100,000 87,500.500   \n",
       "\n",
       "  w3povrty  p5fstamp  c5r2mtsc  c5r2mtsc_std  \n",
       "0    0.000     0.000    60.043         0.982  \n",
       "1    0.000     0.000    56.280         0.594  \n",
       "2      nan       nan    53.791         0.338  \n",
       "3    0.000     0.000    55.272         0.491  \n",
       "4    0.000     0.000    64.604         1.451  \n",
       "\n",
       "[5 rows x 22 columns]"
      ]
     },
     "execution_count": 312,
     "metadata": {},
     "output_type": "execute_result"
    }
   ],
   "source": [
    "data_tmp = pd.read_csv(path)\n",
    "data_tmp.head()"
   ]
  },
  {
   "cell_type": "code",
   "execution_count": 313,
   "metadata": {},
   "outputs": [
    {
     "data": {
      "text/plain": [
       "(11078, 22)"
      ]
     },
     "execution_count": 313,
     "metadata": {},
     "output_type": "execute_result"
    }
   ],
   "source": [
    "data_tmp.shape"
   ]
  },
  {
   "cell_type": "code",
   "execution_count": 314,
   "metadata": {},
   "outputs": [
    {
     "data": {
      "text/plain": [
       "Index(['childid', 'catholic', 'race', 'race_white', 'race_black',\n",
       "       'race_hispanic', 'race_asian', 'p5numpla', 'p5hmage', 'p5hdage',\n",
       "       'w3daded', 'w3momed', 'w3daded_hsb', 'w3momed_hsb', 'w3momscr',\n",
       "       'w3dadscr', 'w3inccat', 'w3income', 'w3povrty', 'p5fstamp', 'c5r2mtsc',\n",
       "       'c5r2mtsc_std'],\n",
       "      dtype='object')"
      ]
     },
     "execution_count": 314,
     "metadata": {},
     "output_type": "execute_result"
    }
   ],
   "source": [
    "data_tmp.columns"
   ]
  },
  {
   "cell_type": "code",
   "execution_count": 315,
   "metadata": {},
   "outputs": [],
   "source": [
    "data_tmp.loc[data_tmp.index==0].to_csv(\"temp.csv\")"
   ]
  },
  {
   "cell_type": "markdown",
   "metadata": {},
   "source": [
    "### raw dataset readings"
   ]
  },
  {
   "cell_type": "code",
   "execution_count": 316,
   "metadata": {},
   "outputs": [],
   "source": [
    "if (path == path_to_catholic_vs_math_data):\n",
    "    data = pd.read_csv(path, usecols = ['race_white'\n",
    "                                        , 'p5hmage'\n",
    "                                        , 'w3income'\n",
    "                                        , 'p5numpla'\n",
    "                                        , 'w3momed_hsb'\n",
    "                                        ,'catholic'\n",
    "                                        , 'c5r2mtsc'\n",
    "                                        ,'childid' #it is an id --ruined all\n",
    "                                       ])\n",
    "    data.dropna(inplace = True)\n",
    "    ##data['index_initial_p'] = list(range(0, data.shape[0])) --ruined all\n",
    "    data['p5numpla'] = pd.to_numeric(data['p5numpla'], downcast = 'integer')\n",
    "    #data is separable for 'p5numpla'\n",
    "    data = data.loc[data.p5numpla<4]\n",
    "    \n",
    "    data['w3momed_hsb'] = pd.to_numeric(data['w3momed_hsb'], downcast = 'integer')\n",
    "   \n",
    "    data['p5numpla'] =data['p5numpla'].astype('category')\n",
    "    data['w3momed_hsb'] =data['w3momed_hsb'].astype('category')\n",
    "    data['race_white'] =data['race_white'].astype('category')\n",
    "    \n",
    "    data['w3income'] = data['w3income']/1000.0\n",
    "    \n",
    "    trt_column = 'catholic'\n",
    "    \n",
    "    trgt_column_raw = 'c5r2mtsc'\n",
    "    trgt_column = 'c5r2mtsc_sd'\n",
    "    \n",
    "    scaler = StandardScaler()\n",
    "    scaler.fit(np.array(data[trgt_column_raw]).reshape(-1, 1))\n",
    "    data[trgt_column] = scaler.transform(np.array(data[trgt_column_raw]).reshape(-1, 1))\n",
    "\n",
    "     \n",
    "    numerical_features_list = ['w3income', 'p5hmage']\n",
    "    binary_features_list = ['race_white','w3momed_hsb']\n",
    "    categorical_feature_list = ['p5numpla']\n",
    "    \n",
    "if (path == path_to_loan_data):\n",
    "    data = pd.read_csv(path)"
   ]
  },
  {
   "cell_type": "code",
   "execution_count": 317,
   "metadata": {},
   "outputs": [
    {
     "name": "stdout",
     "output_type": "stream",
     "text": [
      "(9246, 9)\n"
     ]
    },
    {
     "data": {
      "text/html": [
       "<div>\n",
       "<style scoped>\n",
       "    .dataframe tbody tr th:only-of-type {\n",
       "        vertical-align: middle;\n",
       "    }\n",
       "\n",
       "    .dataframe tbody tr th {\n",
       "        vertical-align: top;\n",
       "    }\n",
       "\n",
       "    .dataframe thead th {\n",
       "        text-align: right;\n",
       "    }\n",
       "</style>\n",
       "<table border=\"1\" class=\"dataframe\">\n",
       "  <thead>\n",
       "    <tr style=\"text-align: right;\">\n",
       "      <th></th>\n",
       "      <th>childid</th>\n",
       "      <th>catholic</th>\n",
       "      <th>race_white</th>\n",
       "      <th>p5numpla</th>\n",
       "      <th>p5hmage</th>\n",
       "      <th>w3momed_hsb</th>\n",
       "      <th>w3income</th>\n",
       "      <th>c5r2mtsc</th>\n",
       "      <th>c5r2mtsc_sd</th>\n",
       "    </tr>\n",
       "  </thead>\n",
       "  <tbody>\n",
       "    <tr>\n",
       "      <th>0</th>\n",
       "      <td>0001002C</td>\n",
       "      <td>0</td>\n",
       "      <td>1</td>\n",
       "      <td>1</td>\n",
       "      <td>47.000</td>\n",
       "      <td>0</td>\n",
       "      <td>62.501</td>\n",
       "      <td>60.043</td>\n",
       "      <td>0.927</td>\n",
       "    </tr>\n",
       "    <tr>\n",
       "      <th>1</th>\n",
       "      <td>0001004C</td>\n",
       "      <td>0</td>\n",
       "      <td>1</td>\n",
       "      <td>1</td>\n",
       "      <td>41.000</td>\n",
       "      <td>0</td>\n",
       "      <td>45.001</td>\n",
       "      <td>56.280</td>\n",
       "      <td>0.538</td>\n",
       "    </tr>\n",
       "    <tr>\n",
       "      <th>3</th>\n",
       "      <td>0001010C</td>\n",
       "      <td>0</td>\n",
       "      <td>1</td>\n",
       "      <td>1</td>\n",
       "      <td>43.000</td>\n",
       "      <td>0</td>\n",
       "      <td>62.501</td>\n",
       "      <td>55.272</td>\n",
       "      <td>0.433</td>\n",
       "    </tr>\n",
       "    <tr>\n",
       "      <th>4</th>\n",
       "      <td>0001011C</td>\n",
       "      <td>1</td>\n",
       "      <td>1</td>\n",
       "      <td>1</td>\n",
       "      <td>38.000</td>\n",
       "      <td>0</td>\n",
       "      <td>87.501</td>\n",
       "      <td>64.604</td>\n",
       "      <td>1.399</td>\n",
       "    </tr>\n",
       "    <tr>\n",
       "      <th>5</th>\n",
       "      <td>0001012C</td>\n",
       "      <td>0</td>\n",
       "      <td>1</td>\n",
       "      <td>1</td>\n",
       "      <td>47.000</td>\n",
       "      <td>0</td>\n",
       "      <td>150.000</td>\n",
       "      <td>75.721</td>\n",
       "      <td>2.549</td>\n",
       "    </tr>\n",
       "  </tbody>\n",
       "</table>\n",
       "</div>"
      ],
      "text/plain": [
       "    childid  catholic race_white p5numpla  p5hmage w3momed_hsb  w3income  \\\n",
       "0  0001002C         0          1        1   47.000           0    62.501   \n",
       "1  0001004C         0          1        1   41.000           0    45.001   \n",
       "3  0001010C         0          1        1   43.000           0    62.501   \n",
       "4  0001011C         1          1        1   38.000           0    87.501   \n",
       "5  0001012C         0          1        1   47.000           0   150.000   \n",
       "\n",
       "   c5r2mtsc  c5r2mtsc_sd  \n",
       "0    60.043        0.927  \n",
       "1    56.280        0.538  \n",
       "3    55.272        0.433  \n",
       "4    64.604        1.399  \n",
       "5    75.721        2.549  "
      ]
     },
     "execution_count": 317,
     "metadata": {},
     "output_type": "execute_result"
    }
   ],
   "source": [
    "print(data.shape)\n",
    "data.head()"
   ]
  },
  {
   "cell_type": "code",
   "execution_count": 318,
   "metadata": {},
   "outputs": [
    {
     "data": {
      "text/html": [
       "<div>\n",
       "<style scoped>\n",
       "    .dataframe tbody tr th:only-of-type {\n",
       "        vertical-align: middle;\n",
       "    }\n",
       "\n",
       "    .dataframe tbody tr th {\n",
       "        vertical-align: top;\n",
       "    }\n",
       "\n",
       "    .dataframe thead th {\n",
       "        text-align: right;\n",
       "    }\n",
       "</style>\n",
       "<table border=\"1\" class=\"dataframe\">\n",
       "  <thead>\n",
       "    <tr style=\"text-align: right;\">\n",
       "      <th></th>\n",
       "      <th>catholic</th>\n",
       "      <th>race_white</th>\n",
       "      <th>p5numpla</th>\n",
       "      <th>p5hmage</th>\n",
       "      <th>w3momed_hsb</th>\n",
       "      <th>w3income</th>\n",
       "      <th>c5r2mtsc</th>\n",
       "    </tr>\n",
       "  </thead>\n",
       "  <tbody>\n",
       "    <tr>\n",
       "      <th>unique</th>\n",
       "      <td>nan</td>\n",
       "      <td>2.000</td>\n",
       "      <td>3.000</td>\n",
       "      <td>nan</td>\n",
       "      <td>2.000</td>\n",
       "      <td>nan</td>\n",
       "      <td>nan</td>\n",
       "    </tr>\n",
       "    <tr>\n",
       "      <th>mean</th>\n",
       "      <td>0.146</td>\n",
       "      <td>nan</td>\n",
       "      <td>nan</td>\n",
       "      <td>37.865</td>\n",
       "      <td>nan</td>\n",
       "      <td>59.481</td>\n",
       "      <td>51.085</td>\n",
       "    </tr>\n",
       "    <tr>\n",
       "      <th>std</th>\n",
       "      <td>0.353</td>\n",
       "      <td>nan</td>\n",
       "      <td>nan</td>\n",
       "      <td>6.414</td>\n",
       "      <td>nan</td>\n",
       "      <td>45.396</td>\n",
       "      <td>9.666</td>\n",
       "    </tr>\n",
       "  </tbody>\n",
       "</table>\n",
       "</div>"
      ],
      "text/plain": [
       "        catholic  race_white  p5numpla  p5hmage  w3momed_hsb  w3income  \\\n",
       "unique       nan       2.000     3.000      nan        2.000       nan   \n",
       "mean       0.146         nan       nan   37.865          nan    59.481   \n",
       "std        0.353         nan       nan    6.414          nan    45.396   \n",
       "\n",
       "        c5r2mtsc  \n",
       "unique       nan  \n",
       "mean      51.085  \n",
       "std        9.666  "
      ]
     },
     "execution_count": 318,
     "metadata": {},
     "output_type": "execute_result"
    }
   ],
   "source": [
    "pd.options.display.float_format = \"{:,.3f}\".format\n",
    "dscr = data[['catholic','race_white','p5numpla','p5hmage','w3momed_hsb','w3income','c5r2mtsc']].describe(include='all')\n",
    "dscr = dscr.loc[dscr.index.isin(['unique','mean','std'])]\n",
    "dscr"
   ]
  },
  {
   "cell_type": "markdown",
   "metadata": {},
   "source": [
    "#### Scaling and encoding"
   ]
  },
  {
   "cell_type": "code",
   "execution_count": 319,
   "metadata": {},
   "outputs": [
    {
     "name": "stdout",
     "output_type": "stream",
     "text": [
      "(9246, 11)\n"
     ]
    },
    {
     "data": {
      "text/html": [
       "<div>\n",
       "<style scoped>\n",
       "    .dataframe tbody tr th:only-of-type {\n",
       "        vertical-align: middle;\n",
       "    }\n",
       "\n",
       "    .dataframe tbody tr th {\n",
       "        vertical-align: top;\n",
       "    }\n",
       "\n",
       "    .dataframe thead th {\n",
       "        text-align: right;\n",
       "    }\n",
       "</style>\n",
       "<table border=\"1\" class=\"dataframe\">\n",
       "  <thead>\n",
       "    <tr style=\"text-align: right;\">\n",
       "      <th></th>\n",
       "      <th>catholic</th>\n",
       "      <th>c5r2mtsc</th>\n",
       "      <th>c5r2mtsc_sd</th>\n",
       "      <th>childid</th>\n",
       "      <th>race_white</th>\n",
       "      <th>w3momed_hsb</th>\n",
       "      <th>w3income</th>\n",
       "      <th>p5hmage</th>\n",
       "      <th>p5numpla_1</th>\n",
       "      <th>p5numpla_2</th>\n",
       "      <th>p5numpla_3</th>\n",
       "    </tr>\n",
       "  </thead>\n",
       "  <tbody>\n",
       "    <tr>\n",
       "      <th>0</th>\n",
       "      <td>0</td>\n",
       "      <td>60.043</td>\n",
       "      <td>0.927</td>\n",
       "      <td>0001002C</td>\n",
       "      <td>1</td>\n",
       "      <td>0</td>\n",
       "      <td>0.067</td>\n",
       "      <td>1.424</td>\n",
       "      <td>1.000</td>\n",
       "      <td>0.000</td>\n",
       "      <td>0.000</td>\n",
       "    </tr>\n",
       "    <tr>\n",
       "      <th>1</th>\n",
       "      <td>0</td>\n",
       "      <td>56.280</td>\n",
       "      <td>0.538</td>\n",
       "      <td>0001004C</td>\n",
       "      <td>1</td>\n",
       "      <td>0</td>\n",
       "      <td>-0.319</td>\n",
       "      <td>0.489</td>\n",
       "      <td>1.000</td>\n",
       "      <td>0.000</td>\n",
       "      <td>0.000</td>\n",
       "    </tr>\n",
       "    <tr>\n",
       "      <th>3</th>\n",
       "      <td>0</td>\n",
       "      <td>55.272</td>\n",
       "      <td>0.433</td>\n",
       "      <td>0001010C</td>\n",
       "      <td>1</td>\n",
       "      <td>0</td>\n",
       "      <td>0.067</td>\n",
       "      <td>0.801</td>\n",
       "      <td>1.000</td>\n",
       "      <td>0.000</td>\n",
       "      <td>0.000</td>\n",
       "    </tr>\n",
       "    <tr>\n",
       "      <th>4</th>\n",
       "      <td>1</td>\n",
       "      <td>64.604</td>\n",
       "      <td>1.399</td>\n",
       "      <td>0001011C</td>\n",
       "      <td>1</td>\n",
       "      <td>0</td>\n",
       "      <td>0.617</td>\n",
       "      <td>0.021</td>\n",
       "      <td>1.000</td>\n",
       "      <td>0.000</td>\n",
       "      <td>0.000</td>\n",
       "    </tr>\n",
       "    <tr>\n",
       "      <th>5</th>\n",
       "      <td>0</td>\n",
       "      <td>75.721</td>\n",
       "      <td>2.549</td>\n",
       "      <td>0001012C</td>\n",
       "      <td>1</td>\n",
       "      <td>0</td>\n",
       "      <td>1.994</td>\n",
       "      <td>1.424</td>\n",
       "      <td>1.000</td>\n",
       "      <td>0.000</td>\n",
       "      <td>0.000</td>\n",
       "    </tr>\n",
       "  </tbody>\n",
       "</table>\n",
       "</div>"
      ],
      "text/plain": [
       "   catholic  c5r2mtsc  c5r2mtsc_sd   childid race_white w3momed_hsb  w3income  \\\n",
       "0         0    60.043        0.927  0001002C          1           0     0.067   \n",
       "1         0    56.280        0.538  0001004C          1           0    -0.319   \n",
       "3         0    55.272        0.433  0001010C          1           0     0.067   \n",
       "4         1    64.604        1.399  0001011C          1           0     0.617   \n",
       "5         0    75.721        2.549  0001012C          1           0     1.994   \n",
       "\n",
       "   p5hmage p5numpla_1 p5numpla_2 p5numpla_3  \n",
       "0    1.424      1.000      0.000      0.000  \n",
       "1    0.489      1.000      0.000      0.000  \n",
       "3    0.801      1.000      0.000      0.000  \n",
       "4    0.021      1.000      0.000      0.000  \n",
       "5    1.424      1.000      0.000      0.000  "
      ]
     },
     "execution_count": 319,
     "metadata": {},
     "output_type": "execute_result"
    }
   ],
   "source": [
    "scaler = StandardScaler()\n",
    "s=pd.DataFrame(scaler.fit_transform(data[numerical_features_list])\n",
    "               ,columns = numerical_features_list\n",
    "              ,index = data.index)\n",
    "\n",
    "ohe = OneHotEncoder(sparse = False)\n",
    "clm = []\n",
    "\n",
    "for c in categorical_feature_list:\n",
    "    clm =  clm + list(map(lambda x: c + '_' + str(x), set(data[c].tolist())))\n",
    "    \n",
    "o = pd.DataFrame(ohe.fit(data[categorical_feature_list]).transform(data[categorical_feature_list])\n",
    "                 , columns = clm\n",
    "                 ,index = data.index)\n",
    "\n",
    "data_scaled=pd.concat([data[[trt_column, trgt_column_raw, trgt_column, 'childid']+binary_features_list]\n",
    "                       ,s\n",
    "                       ,o]\n",
    "                      ,axis = 1\n",
    "                      )\n",
    "for c in clm:\n",
    "    data_scaled[c] =data_scaled[c].astype('category')\n",
    "\n",
    "print(data_scaled.shape)\n",
    "data_scaled.head()"
   ]
  },
  {
   "cell_type": "code",
   "execution_count": 320,
   "metadata": {},
   "outputs": [],
   "source": [
    "binary_features_list_extended = binary_features_list + clm"
   ]
  },
  {
   "cell_type": "code",
   "execution_count": 321,
   "metadata": {},
   "outputs": [
    {
     "data": {
      "text/plain": [
       "Index(['childid', 'catholic', 'race_white', 'p5numpla', 'p5hmage',\n",
       "       'w3momed_hsb', 'w3income', 'c5r2mtsc', 'c5r2mtsc_sd'],\n",
       "      dtype='object')"
      ]
     },
     "execution_count": 321,
     "metadata": {},
     "output_type": "execute_result"
    }
   ],
   "source": [
    "data.columns"
   ]
  },
  {
   "cell_type": "code",
   "execution_count": 322,
   "metadata": {},
   "outputs": [],
   "source": [
    "if (path == path_to_loan_data):\n",
    "    test = data[data.loan_status == \"Default\"]\n",
    "    control = data[data.loan_status == \"Fully Paid\"]\n",
    "    test['loan_status'] = 1\n",
    "    control['loan_status'] = 0\n",
    "    \n",
    "    response_psm = \"loan_status\"\n",
    "    exclude_list=[]"
   ]
  },
  {
   "cell_type": "code",
   "execution_count": 323,
   "metadata": {},
   "outputs": [],
   "source": [
    "if (path == path_to_catholic_vs_math_data): \n",
    "    test = data_scaled[data.catholic == 1]\n",
    "    control = data_scaled[data.catholic == 0]\n",
    "\n",
    "    response_psm = trt_column\n",
    "    exclude_list=[trgt_column_raw, trgt_column, 'childid'] + list(map(lambda x: 'p5numpla_'+str(x), range(4,6)))"
   ]
  },
  {
   "cell_type": "code",
   "execution_count": 324,
   "metadata": {},
   "outputs": [
    {
     "data": {
      "text/html": [
       "<div>\n",
       "<style scoped>\n",
       "    .dataframe tbody tr th:only-of-type {\n",
       "        vertical-align: middle;\n",
       "    }\n",
       "\n",
       "    .dataframe tbody tr th {\n",
       "        vertical-align: top;\n",
       "    }\n",
       "\n",
       "    .dataframe thead th {\n",
       "        text-align: right;\n",
       "    }\n",
       "</style>\n",
       "<table border=\"1\" class=\"dataframe\">\n",
       "  <thead>\n",
       "    <tr style=\"text-align: right;\">\n",
       "      <th></th>\n",
       "      <th>catholic</th>\n",
       "      <th>c5r2mtsc</th>\n",
       "      <th>c5r2mtsc_sd</th>\n",
       "      <th>childid</th>\n",
       "      <th>race_white</th>\n",
       "      <th>w3momed_hsb</th>\n",
       "      <th>w3income</th>\n",
       "      <th>p5hmage</th>\n",
       "      <th>p5numpla_1</th>\n",
       "      <th>p5numpla_2</th>\n",
       "      <th>p5numpla_3</th>\n",
       "    </tr>\n",
       "  </thead>\n",
       "  <tbody>\n",
       "    <tr>\n",
       "      <th>4</th>\n",
       "      <td>1</td>\n",
       "      <td>64.604</td>\n",
       "      <td>1.399</td>\n",
       "      <td>0001011C</td>\n",
       "      <td>1</td>\n",
       "      <td>0</td>\n",
       "      <td>0.617</td>\n",
       "      <td>0.021</td>\n",
       "      <td>1.000</td>\n",
       "      <td>0.000</td>\n",
       "      <td>0.000</td>\n",
       "    </tr>\n",
       "    <tr>\n",
       "      <th>39</th>\n",
       "      <td>1</td>\n",
       "      <td>52.035</td>\n",
       "      <td>0.098</td>\n",
       "      <td>0007002C</td>\n",
       "      <td>1</td>\n",
       "      <td>0</td>\n",
       "      <td>0.067</td>\n",
       "      <td>0.177</td>\n",
       "      <td>0.000</td>\n",
       "      <td>1.000</td>\n",
       "      <td>0.000</td>\n",
       "    </tr>\n",
       "    <tr>\n",
       "      <th>40</th>\n",
       "      <td>1</td>\n",
       "      <td>64.935</td>\n",
       "      <td>1.433</td>\n",
       "      <td>0007004C</td>\n",
       "      <td>1</td>\n",
       "      <td>0</td>\n",
       "      <td>1.994</td>\n",
       "      <td>0.489</td>\n",
       "      <td>0.000</td>\n",
       "      <td>1.000</td>\n",
       "      <td>0.000</td>\n",
       "    </tr>\n",
       "    <tr>\n",
       "      <th>41</th>\n",
       "      <td>1</td>\n",
       "      <td>45.630</td>\n",
       "      <td>-0.564</td>\n",
       "      <td>0007006C</td>\n",
       "      <td>1</td>\n",
       "      <td>0</td>\n",
       "      <td>0.617</td>\n",
       "      <td>-0.447</td>\n",
       "      <td>1.000</td>\n",
       "      <td>0.000</td>\n",
       "      <td>0.000</td>\n",
       "    </tr>\n",
       "    <tr>\n",
       "      <th>42</th>\n",
       "      <td>1</td>\n",
       "      <td>48.521</td>\n",
       "      <td>-0.265</td>\n",
       "      <td>0007008C</td>\n",
       "      <td>1</td>\n",
       "      <td>0</td>\n",
       "      <td>1.994</td>\n",
       "      <td>0.489</td>\n",
       "      <td>1.000</td>\n",
       "      <td>0.000</td>\n",
       "      <td>0.000</td>\n",
       "    </tr>\n",
       "  </tbody>\n",
       "</table>\n",
       "</div>"
      ],
      "text/plain": [
       "    catholic  c5r2mtsc  c5r2mtsc_sd   childid race_white w3momed_hsb  \\\n",
       "4          1    64.604        1.399  0001011C          1           0   \n",
       "39         1    52.035        0.098  0007002C          1           0   \n",
       "40         1    64.935        1.433  0007004C          1           0   \n",
       "41         1    45.630       -0.564  0007006C          1           0   \n",
       "42         1    48.521       -0.265  0007008C          1           0   \n",
       "\n",
       "    w3income  p5hmage p5numpla_1 p5numpla_2 p5numpla_3  \n",
       "4      0.617    0.021      1.000      0.000      0.000  \n",
       "39     0.067    0.177      0.000      1.000      0.000  \n",
       "40     1.994    0.489      0.000      1.000      0.000  \n",
       "41     0.617   -0.447      1.000      0.000      0.000  \n",
       "42     1.994    0.489      1.000      0.000      0.000  "
      ]
     },
     "execution_count": 324,
     "metadata": {},
     "output_type": "execute_result"
    }
   ],
   "source": [
    "test.head()"
   ]
  },
  {
   "cell_type": "code",
   "execution_count": 325,
   "metadata": {},
   "outputs": [],
   "source": [
    "data_scaled.to_csv('temp.csv')"
   ]
  },
  {
   "cell_type": "markdown",
   "metadata": {},
   "source": [
    "### Profiling"
   ]
  },
  {
   "cell_type": "code",
   "execution_count": 326,
   "metadata": {},
   "outputs": [],
   "source": [
    "import pandas_profiling"
   ]
  },
  {
   "cell_type": "code",
   "execution_count": 327,
   "metadata": {},
   "outputs": [
    {
     "data": {
      "text/html": [
       "<div>\n",
       "<style scoped>\n",
       "    .dataframe tbody tr th:only-of-type {\n",
       "        vertical-align: middle;\n",
       "    }\n",
       "\n",
       "    .dataframe tbody tr th {\n",
       "        vertical-align: top;\n",
       "    }\n",
       "\n",
       "    .dataframe thead th {\n",
       "        text-align: right;\n",
       "    }\n",
       "</style>\n",
       "<table border=\"1\" class=\"dataframe\">\n",
       "  <thead>\n",
       "    <tr style=\"text-align: right;\">\n",
       "      <th></th>\n",
       "      <th>childid</th>\n",
       "      <th>catholic</th>\n",
       "      <th>race_white</th>\n",
       "      <th>p5numpla</th>\n",
       "      <th>p5hmage</th>\n",
       "      <th>w3momed_hsb</th>\n",
       "      <th>w3income</th>\n",
       "      <th>c5r2mtsc</th>\n",
       "      <th>c5r2mtsc_sd</th>\n",
       "    </tr>\n",
       "  </thead>\n",
       "  <tbody>\n",
       "    <tr>\n",
       "      <th>0</th>\n",
       "      <td>0001002C</td>\n",
       "      <td>0</td>\n",
       "      <td>1</td>\n",
       "      <td>1</td>\n",
       "      <td>47.000</td>\n",
       "      <td>0</td>\n",
       "      <td>62.501</td>\n",
       "      <td>60.043</td>\n",
       "      <td>0.927</td>\n",
       "    </tr>\n",
       "    <tr>\n",
       "      <th>1</th>\n",
       "      <td>0001004C</td>\n",
       "      <td>0</td>\n",
       "      <td>1</td>\n",
       "      <td>1</td>\n",
       "      <td>41.000</td>\n",
       "      <td>0</td>\n",
       "      <td>45.001</td>\n",
       "      <td>56.280</td>\n",
       "      <td>0.538</td>\n",
       "    </tr>\n",
       "    <tr>\n",
       "      <th>3</th>\n",
       "      <td>0001010C</td>\n",
       "      <td>0</td>\n",
       "      <td>1</td>\n",
       "      <td>1</td>\n",
       "      <td>43.000</td>\n",
       "      <td>0</td>\n",
       "      <td>62.501</td>\n",
       "      <td>55.272</td>\n",
       "      <td>0.433</td>\n",
       "    </tr>\n",
       "    <tr>\n",
       "      <th>4</th>\n",
       "      <td>0001011C</td>\n",
       "      <td>1</td>\n",
       "      <td>1</td>\n",
       "      <td>1</td>\n",
       "      <td>38.000</td>\n",
       "      <td>0</td>\n",
       "      <td>87.501</td>\n",
       "      <td>64.604</td>\n",
       "      <td>1.399</td>\n",
       "    </tr>\n",
       "    <tr>\n",
       "      <th>5</th>\n",
       "      <td>0001012C</td>\n",
       "      <td>0</td>\n",
       "      <td>1</td>\n",
       "      <td>1</td>\n",
       "      <td>47.000</td>\n",
       "      <td>0</td>\n",
       "      <td>150.000</td>\n",
       "      <td>75.721</td>\n",
       "      <td>2.549</td>\n",
       "    </tr>\n",
       "  </tbody>\n",
       "</table>\n",
       "</div>"
      ],
      "text/plain": [
       "    childid  catholic race_white p5numpla  p5hmage w3momed_hsb  w3income  \\\n",
       "0  0001002C         0          1        1   47.000           0    62.501   \n",
       "1  0001004C         0          1        1   41.000           0    45.001   \n",
       "3  0001010C         0          1        1   43.000           0    62.501   \n",
       "4  0001011C         1          1        1   38.000           0    87.501   \n",
       "5  0001012C         0          1        1   47.000           0   150.000   \n",
       "\n",
       "   c5r2mtsc  c5r2mtsc_sd  \n",
       "0    60.043        0.927  \n",
       "1    56.280        0.538  \n",
       "3    55.272        0.433  \n",
       "4    64.604        1.399  \n",
       "5    75.721        2.549  "
      ]
     },
     "execution_count": 327,
     "metadata": {},
     "output_type": "execute_result"
    }
   ],
   "source": [
    "data.head()"
   ]
  },
  {
   "cell_type": "code",
   "execution_count": 328,
   "metadata": {},
   "outputs": [],
   "source": [
    "#profile = pandas_profiling.ProfileReport(data[['catholic','race_white','p5numpla','p5hmage','w3momed_hsb','w3income','c5r2mtsc']])\n",
    "#profile.to_file(outputfile=\"Catholic data profiling.html\")"
   ]
  },
  {
   "cell_type": "code",
   "execution_count": 329,
   "metadata": {},
   "outputs": [],
   "source": [
    "#d = control[['catholic','race_white','p5numpla','p5hmage','w3momed_hsb','w3income','c5r2mtsc']].describe(include=\"all\")\n",
    "#d.loc[d.index.isin(['unique','top','freq','mean','std'])]\n",
    "#d"
   ]
  },
  {
   "cell_type": "code",
   "execution_count": 330,
   "metadata": {},
   "outputs": [],
   "source": [
    "#d = test[['catholic','race_white','p5numpla','p5hmage','w3momed_hsb','w3income','c5r2mtsc']].describe(include=\"all\")\n",
    "#d.loc[d.index.isin(['unique','top','freq','mean','std'])]#"
   ]
  },
  {
   "cell_type": "code",
   "execution_count": 331,
   "metadata": {},
   "outputs": [],
   "source": [
    "#d = data[['catholic','race_white','p5numpla','p5hmage','w3momed_hsb','w3income','c5r2mtsc']].describe(include=\"all\")\n",
    "#d.loc[d.index.isin(['unique','top','freq','mean','std'])]"
   ]
  },
  {
   "cell_type": "markdown",
   "metadata": {},
   "source": [
    "### Matching"
   ]
  },
  {
   "cell_type": "code",
   "execution_count": 332,
   "metadata": {},
   "outputs": [
    {
     "name": "stdout",
     "output_type": "stream",
     "text": [
      "Formula:\n",
      "catholic ~ race_white+w3momed_hsb+w3income+p5hmage+p5numpla_1+p5numpla_2+p5numpla_3\n",
      "n majority: 7894\n",
      "n minority: 1352\n"
     ]
    }
   ],
   "source": [
    "m = Matcher(test, control, yvar=response_psm, exclude=exclude_list)"
   ]
  },
  {
   "cell_type": "code",
   "execution_count": 333,
   "metadata": {},
   "outputs": [
    {
     "name": "stdout",
     "output_type": "stream",
     "text": [
      "Fitting Models on Balanced Samples: 6\\6\n",
      "Average Accuracy: 65.32%\n"
     ]
    }
   ],
   "source": [
    "# for reproducibility\n",
    "np.random.seed(20200429)\n",
    "\n",
    "m.fit_scores(balance=True, nmodels=6)"
   ]
  },
  {
   "cell_type": "code",
   "execution_count": 334,
   "metadata": {},
   "outputs": [],
   "source": [
    "m.predict_scores()"
   ]
  },
  {
   "cell_type": "code",
   "execution_count": 335,
   "metadata": {},
   "outputs": [
    {
     "name": "stdout",
     "output_type": "stream",
     "text": [
      "The autoreload extension is already loaded. To reload it, use:\n",
      "  %reload_ext autoreload\n"
     ]
    }
   ],
   "source": [
    "%load_ext autoreload\n",
    "%autoreload 2\n",
    "%matplotlib inline"
   ]
  },
  {
   "cell_type": "code",
   "execution_count": 336,
   "metadata": {},
   "outputs": [
    {
     "data": {
      "image/png": "[encoded data removed]",
      "text/plain": [
       "<Figure size 432x288 with 1 Axes>"
      ]
     },
     "metadata": {
      "needs_background": "light"
     },
     "output_type": "display_data"
    }
   ],
   "source": [
    "m.plot_scores()"
   ]
  },
  {
   "cell_type": "code",
   "execution_count": 337,
   "metadata": {},
   "outputs": [
    {
     "data": {
      "text/plain": [
       "(9246, 12)"
      ]
     },
     "execution_count": 337,
     "metadata": {},
     "output_type": "execute_result"
    }
   ],
   "source": [
    "m.data.shape"
   ]
  },
  {
   "cell_type": "code",
   "execution_count": 338,
   "metadata": {},
   "outputs": [
    {
     "data": {
      "text/html": [
       "<div>\n",
       "<style scoped>\n",
       "    .dataframe tbody tr th:only-of-type {\n",
       "        vertical-align: middle;\n",
       "    }\n",
       "\n",
       "    .dataframe tbody tr th {\n",
       "        vertical-align: top;\n",
       "    }\n",
       "\n",
       "    .dataframe thead th {\n",
       "        text-align: right;\n",
       "    }\n",
       "</style>\n",
       "<table border=\"1\" class=\"dataframe\">\n",
       "  <thead>\n",
       "    <tr style=\"text-align: right;\">\n",
       "      <th></th>\n",
       "      <th>catholic</th>\n",
       "      <th>c5r2mtsc</th>\n",
       "      <th>c5r2mtsc_sd</th>\n",
       "      <th>childid</th>\n",
       "      <th>race_white</th>\n",
       "      <th>w3momed_hsb</th>\n",
       "      <th>w3income</th>\n",
       "      <th>p5hmage</th>\n",
       "      <th>p5numpla_1</th>\n",
       "      <th>p5numpla_2</th>\n",
       "      <th>p5numpla_3</th>\n",
       "      <th>scores</th>\n",
       "    </tr>\n",
       "  </thead>\n",
       "  <tbody>\n",
       "    <tr>\n",
       "      <th>0</th>\n",
       "      <td>1</td>\n",
       "      <td>64.604</td>\n",
       "      <td>1.399</td>\n",
       "      <td>0001011C</td>\n",
       "      <td>1</td>\n",
       "      <td>0</td>\n",
       "      <td>0.617</td>\n",
       "      <td>0.021</td>\n",
       "      <td>1.000</td>\n",
       "      <td>0.000</td>\n",
       "      <td>0.000</td>\n",
       "      <td>0.622</td>\n",
       "    </tr>\n",
       "    <tr>\n",
       "      <th>1</th>\n",
       "      <td>1</td>\n",
       "      <td>52.035</td>\n",
       "      <td>0.098</td>\n",
       "      <td>0007002C</td>\n",
       "      <td>1</td>\n",
       "      <td>0</td>\n",
       "      <td>0.067</td>\n",
       "      <td>0.177</td>\n",
       "      <td>0.000</td>\n",
       "      <td>1.000</td>\n",
       "      <td>0.000</td>\n",
       "      <td>0.570</td>\n",
       "    </tr>\n",
       "    <tr>\n",
       "      <th>2</th>\n",
       "      <td>1</td>\n",
       "      <td>64.935</td>\n",
       "      <td>1.433</td>\n",
       "      <td>0007004C</td>\n",
       "      <td>1</td>\n",
       "      <td>0</td>\n",
       "      <td>1.994</td>\n",
       "      <td>0.489</td>\n",
       "      <td>0.000</td>\n",
       "      <td>1.000</td>\n",
       "      <td>0.000</td>\n",
       "      <td>0.752</td>\n",
       "    </tr>\n",
       "    <tr>\n",
       "      <th>3</th>\n",
       "      <td>1</td>\n",
       "      <td>45.630</td>\n",
       "      <td>-0.564</td>\n",
       "      <td>0007006C</td>\n",
       "      <td>1</td>\n",
       "      <td>0</td>\n",
       "      <td>0.617</td>\n",
       "      <td>-0.447</td>\n",
       "      <td>1.000</td>\n",
       "      <td>0.000</td>\n",
       "      <td>0.000</td>\n",
       "      <td>0.599</td>\n",
       "    </tr>\n",
       "    <tr>\n",
       "      <th>4</th>\n",
       "      <td>1</td>\n",
       "      <td>48.521</td>\n",
       "      <td>-0.265</td>\n",
       "      <td>0007008C</td>\n",
       "      <td>1</td>\n",
       "      <td>0</td>\n",
       "      <td>1.994</td>\n",
       "      <td>0.489</td>\n",
       "      <td>1.000</td>\n",
       "      <td>0.000</td>\n",
       "      <td>0.000</td>\n",
       "      <td>0.758</td>\n",
       "    </tr>\n",
       "  </tbody>\n",
       "</table>\n",
       "</div>"
      ],
      "text/plain": [
       "   catholic  c5r2mtsc  c5r2mtsc_sd   childid race_white w3momed_hsb  w3income  \\\n",
       "0         1    64.604        1.399  0001011C          1           0     0.617   \n",
       "1         1    52.035        0.098  0007002C          1           0     0.067   \n",
       "2         1    64.935        1.433  0007004C          1           0     1.994   \n",
       "3         1    45.630       -0.564  0007006C          1           0     0.617   \n",
       "4         1    48.521       -0.265  0007008C          1           0     1.994   \n",
       "\n",
       "   p5hmage p5numpla_1 p5numpla_2 p5numpla_3  scores  \n",
       "0    0.021      1.000      0.000      0.000   0.622  \n",
       "1    0.177      0.000      1.000      0.000   0.570  \n",
       "2    0.489      0.000      1.000      0.000   0.752  \n",
       "3   -0.447      1.000      0.000      0.000   0.599  \n",
       "4    0.489      1.000      0.000      0.000   0.758  "
      ]
     },
     "execution_count": 338,
     "metadata": {},
     "output_type": "execute_result"
    }
   ],
   "source": [
    "m.data.head()"
   ]
  },
  {
   "cell_type": "code",
   "execution_count": 339,
   "metadata": {},
   "outputs": [
    {
     "name": "stdout",
     "output_type": "stream",
     "text": [
      "Recommended caliper:\n"
     ]
    },
    {
     "data": {
      "text/plain": [
       "0.04348800788901934"
      ]
     },
     "execution_count": 339,
     "metadata": {},
     "output_type": "execute_result"
    }
   ],
   "source": [
    "print(\"Recommended caliper:\")\n",
    "clpr = m.data.scores.std()/4.0\n",
    "clpr"
   ]
  },
  {
   "cell_type": "code",
   "execution_count": 340,
   "metadata": {},
   "outputs": [
    {
     "data": {
      "image/png": "[encoded data removed]",
      "text/plain": [
       "<Figure size 432x288 with 1 Axes>"
      ]
     },
     "metadata": {
      "needs_background": "light"
     },
     "output_type": "display_data"
    }
   ],
   "source": [
    "m.tune_threshold(method='random')"
   ]
  },
  {
   "cell_type": "code",
   "execution_count": 341,
   "metadata": {},
   "outputs": [
    {
     "name": "stdout",
     "output_type": "stream",
     "text": [
      "0.004348800788901934\n"
     ]
    }
   ],
   "source": [
    "trs = clpr/10.0\n",
    "print(trs)\n",
    "trs=0.00025"
   ]
  },
  {
   "cell_type": "code",
   "execution_count": 342,
   "metadata": {},
   "outputs": [],
   "source": [
    "#trs=0.00025\n",
    "m.match(method=\"random\"\n",
    "        , nmatches=1\n",
    "        , threshold=trs)\n",
    "#prin(m.prop_retained())#0.985\n",
    "#m.assign_weight_vector()"
   ]
  },
  {
   "cell_type": "code",
   "execution_count": 343,
   "metadata": {},
   "outputs": [
    {
     "data": {
      "text/plain": [
       "0.9829881656804734"
      ]
     },
     "execution_count": 343,
     "metadata": {},
     "output_type": "execute_result"
    }
   ],
   "source": [
    "m.prop_retained()"
   ]
  },
  {
   "cell_type": "code",
   "execution_count": 344,
   "metadata": {},
   "outputs": [
    {
     "data": {
      "text/html": [
       "<div>\n",
       "<style scoped>\n",
       "    .dataframe tbody tr th:only-of-type {\n",
       "        vertical-align: middle;\n",
       "    }\n",
       "\n",
       "    .dataframe tbody tr th {\n",
       "        vertical-align: top;\n",
       "    }\n",
       "\n",
       "    .dataframe thead th {\n",
       "        text-align: right;\n",
       "    }\n",
       "</style>\n",
       "<table border=\"1\" class=\"dataframe\">\n",
       "  <thead>\n",
       "    <tr style=\"text-align: right;\">\n",
       "      <th></th>\n",
       "      <th>freq</th>\n",
       "      <th>n_records</th>\n",
       "    </tr>\n",
       "  </thead>\n",
       "  <tbody>\n",
       "    <tr>\n",
       "      <th>0</th>\n",
       "      <td>1</td>\n",
       "      <td>2313</td>\n",
       "    </tr>\n",
       "    <tr>\n",
       "      <th>1</th>\n",
       "      <td>2</td>\n",
       "      <td>140</td>\n",
       "    </tr>\n",
       "    <tr>\n",
       "      <th>2</th>\n",
       "      <td>3</td>\n",
       "      <td>16</td>\n",
       "    </tr>\n",
       "    <tr>\n",
       "      <th>3</th>\n",
       "      <td>4</td>\n",
       "      <td>3</td>\n",
       "    </tr>\n",
       "    <tr>\n",
       "      <th>4</th>\n",
       "      <td>5</td>\n",
       "      <td>1</td>\n",
       "    </tr>\n",
       "  </tbody>\n",
       "</table>\n",
       "</div>"
      ],
      "text/plain": [
       "   freq  n_records\n",
       "0     1       2313\n",
       "1     2        140\n",
       "2     3         16\n",
       "3     4          3\n",
       "4     5          1"
      ]
     },
     "execution_count": 344,
     "metadata": {},
     "output_type": "execute_result"
    }
   ],
   "source": [
    "m.record_frequency()"
   ]
  },
  {
   "cell_type": "code",
   "execution_count": 345,
   "metadata": {},
   "outputs": [],
   "source": [
    "m.assign_weight_vector()"
   ]
  },
  {
   "cell_type": "code",
   "execution_count": 346,
   "metadata": {},
   "outputs": [
    {
     "data": {
      "text/html": [
       "<div>\n",
       "<style scoped>\n",
       "    .dataframe tbody tr th:only-of-type {\n",
       "        vertical-align: middle;\n",
       "    }\n",
       "\n",
       "    .dataframe tbody tr th {\n",
       "        vertical-align: top;\n",
       "    }\n",
       "\n",
       "    .dataframe thead th {\n",
       "        text-align: right;\n",
       "    }\n",
       "</style>\n",
       "<table border=\"1\" class=\"dataframe\">\n",
       "  <thead>\n",
       "    <tr style=\"text-align: right;\">\n",
       "      <th></th>\n",
       "      <th>record_id</th>\n",
       "      <th>weight</th>\n",
       "      <th>catholic</th>\n",
       "      <th>c5r2mtsc</th>\n",
       "      <th>c5r2mtsc_sd</th>\n",
       "      <th>childid</th>\n",
       "      <th>race_white</th>\n",
       "      <th>w3momed_hsb</th>\n",
       "      <th>w3income</th>\n",
       "      <th>p5hmage</th>\n",
       "      <th>p5numpla_1</th>\n",
       "      <th>p5numpla_2</th>\n",
       "      <th>p5numpla_3</th>\n",
       "      <th>scores</th>\n",
       "      <th>match_id</th>\n",
       "    </tr>\n",
       "  </thead>\n",
       "  <tbody>\n",
       "    <tr>\n",
       "      <th>0</th>\n",
       "      <td>0</td>\n",
       "      <td>1.000</td>\n",
       "      <td>1</td>\n",
       "      <td>64.604</td>\n",
       "      <td>1.399</td>\n",
       "      <td>0001011C</td>\n",
       "      <td>1</td>\n",
       "      <td>0</td>\n",
       "      <td>0.617</td>\n",
       "      <td>0.021</td>\n",
       "      <td>1.000</td>\n",
       "      <td>0.000</td>\n",
       "      <td>0.000</td>\n",
       "      <td>0.622</td>\n",
       "      <td>0</td>\n",
       "    </tr>\n",
       "    <tr>\n",
       "      <th>2140</th>\n",
       "      <td>5838</td>\n",
       "      <td>1.000</td>\n",
       "      <td>0</td>\n",
       "      <td>65.870</td>\n",
       "      <td>1.530</td>\n",
       "      <td>0808017C</td>\n",
       "      <td>1</td>\n",
       "      <td>0</td>\n",
       "      <td>0.617</td>\n",
       "      <td>0.021</td>\n",
       "      <td>1.000</td>\n",
       "      <td>0.000</td>\n",
       "      <td>0.000</td>\n",
       "      <td>0.622</td>\n",
       "      <td>0</td>\n",
       "    </tr>\n",
       "    <tr>\n",
       "      <th>1</th>\n",
       "      <td>1</td>\n",
       "      <td>1.000</td>\n",
       "      <td>1</td>\n",
       "      <td>52.035</td>\n",
       "      <td>0.098</td>\n",
       "      <td>0007002C</td>\n",
       "      <td>1</td>\n",
       "      <td>0</td>\n",
       "      <td>0.067</td>\n",
       "      <td>0.177</td>\n",
       "      <td>0.000</td>\n",
       "      <td>1.000</td>\n",
       "      <td>0.000</td>\n",
       "      <td>0.570</td>\n",
       "      <td>1</td>\n",
       "    </tr>\n",
       "    <tr>\n",
       "      <th>1628</th>\n",
       "      <td>2981</td>\n",
       "      <td>1.000</td>\n",
       "      <td>0</td>\n",
       "      <td>55.201</td>\n",
       "      <td>0.426</td>\n",
       "      <td>0317011C</td>\n",
       "      <td>1</td>\n",
       "      <td>0</td>\n",
       "      <td>0.067</td>\n",
       "      <td>0.177</td>\n",
       "      <td>0.000</td>\n",
       "      <td>1.000</td>\n",
       "      <td>0.000</td>\n",
       "      <td>0.570</td>\n",
       "      <td>1</td>\n",
       "    </tr>\n",
       "    <tr>\n",
       "      <th>2</th>\n",
       "      <td>2</td>\n",
       "      <td>1.000</td>\n",
       "      <td>1</td>\n",
       "      <td>64.935</td>\n",
       "      <td>1.433</td>\n",
       "      <td>0007004C</td>\n",
       "      <td>1</td>\n",
       "      <td>0</td>\n",
       "      <td>1.994</td>\n",
       "      <td>0.489</td>\n",
       "      <td>0.000</td>\n",
       "      <td>1.000</td>\n",
       "      <td>0.000</td>\n",
       "      <td>0.752</td>\n",
       "      <td>2</td>\n",
       "    </tr>\n",
       "    <tr>\n",
       "      <th>1631</th>\n",
       "      <td>2986</td>\n",
       "      <td>1.000</td>\n",
       "      <td>0</td>\n",
       "      <td>53.931</td>\n",
       "      <td>0.295</td>\n",
       "      <td>0317020C</td>\n",
       "      <td>1</td>\n",
       "      <td>0</td>\n",
       "      <td>1.994</td>\n",
       "      <td>0.333</td>\n",
       "      <td>1.000</td>\n",
       "      <td>0.000</td>\n",
       "      <td>0.000</td>\n",
       "      <td>0.752</td>\n",
       "      <td>2</td>\n",
       "    </tr>\n",
       "  </tbody>\n",
       "</table>\n",
       "</div>"
      ],
      "text/plain": [
       "      record_id  weight  catholic  c5r2mtsc  c5r2mtsc_sd   childid race_white  \\\n",
       "0             0   1.000         1    64.604        1.399  0001011C          1   \n",
       "2140       5838   1.000         0    65.870        1.530  0808017C          1   \n",
       "1             1   1.000         1    52.035        0.098  0007002C          1   \n",
       "1628       2981   1.000         0    55.201        0.426  0317011C          1   \n",
       "2             2   1.000         1    64.935        1.433  0007004C          1   \n",
       "1631       2986   1.000         0    53.931        0.295  0317020C          1   \n",
       "\n",
       "     w3momed_hsb  w3income  p5hmage p5numpla_1 p5numpla_2 p5numpla_3  scores  \\\n",
       "0              0     0.617    0.021      1.000      0.000      0.000   0.622   \n",
       "2140           0     0.617    0.021      1.000      0.000      0.000   0.622   \n",
       "1              0     0.067    0.177      0.000      1.000      0.000   0.570   \n",
       "1628           0     0.067    0.177      0.000      1.000      0.000   0.570   \n",
       "2              0     1.994    0.489      0.000      1.000      0.000   0.752   \n",
       "1631           0     1.994    0.333      1.000      0.000      0.000   0.752   \n",
       "\n",
       "      match_id  \n",
       "0            0  \n",
       "2140         0  \n",
       "1            1  \n",
       "1628         1  \n",
       "2            2  \n",
       "1631         2  "
      ]
     },
     "execution_count": 346,
     "metadata": {},
     "output_type": "execute_result"
    }
   ],
   "source": [
    "m.matched_data.sort_values(\"match_id\").head(6)"
   ]
  },
  {
   "cell_type": "code",
   "execution_count": 347,
   "metadata": {},
   "outputs": [
    {
     "data": {
      "text/plain": [
       "(2658, 15)"
      ]
     },
     "execution_count": 347,
     "metadata": {},
     "output_type": "execute_result"
    }
   ],
   "source": [
    "m.matched_data.shape"
   ]
  },
  {
   "cell_type": "markdown",
   "metadata": {},
   "source": [
    "### Matching Quality Review: Before and After"
   ]
  },
  {
   "cell_type": "markdown",
   "metadata": {},
   "source": [
    "#### Statistics"
   ]
  },
  {
   "cell_type": "code",
   "execution_count": 348,
   "metadata": {},
   "outputs": [
    {
     "data": {
      "image/png": "[encoded data removed]",
      "text/plain": [
       "<Figure size 432x288 with 1 Axes>"
      ]
     },
     "metadata": {
      "needs_background": "light"
     },
     "output_type": "display_data"
    },
    {
     "data": {
      "image/png": "[encoded data removed]",
      "text/plain": [
       "<Figure size 432x288 with 1 Axes>"
      ]
     },
     "metadata": {
      "needs_background": "light"
     },
     "output_type": "display_data"
    },
    {
     "data": {
      "image/png": "[encoded data removed]",
      "text/plain": [
       "<Figure size 432x288 with 1 Axes>"
      ]
     },
     "metadata": {
      "needs_background": "light"
     },
     "output_type": "display_data"
    },
    {
     "data": {
      "image/png": "[encoded data removed]",
      "text/plain": [
       "<Figure size 432x288 with 1 Axes>"
      ]
     },
     "metadata": {
      "needs_background": "light"
     },
     "output_type": "display_data"
    },
    {
     "data": {
      "image/png": "[encoded data removed]",
      "text/plain": [
       "<Figure size 432x288 with 1 Axes>"
      ]
     },
     "metadata": {
      "needs_background": "light"
     },
     "output_type": "display_data"
    }
   ],
   "source": [
    "categorical_results = m.compare_categorical(return_table=True)"
   ]
  },
  {
   "cell_type": "code",
   "execution_count": 349,
   "metadata": {},
   "outputs": [
    {
     "data": {
      "text/html": [
       "<div>\n",
       "<style scoped>\n",
       "    .dataframe tbody tr th:only-of-type {\n",
       "        vertical-align: middle;\n",
       "    }\n",
       "\n",
       "    .dataframe tbody tr th {\n",
       "        vertical-align: top;\n",
       "    }\n",
       "\n",
       "    .dataframe thead th {\n",
       "        text-align: right;\n",
       "    }\n",
       "</style>\n",
       "<table border=\"1\" class=\"dataframe\">\n",
       "  <thead>\n",
       "    <tr style=\"text-align: right;\">\n",
       "      <th></th>\n",
       "      <th>var</th>\n",
       "      <th>before</th>\n",
       "      <th>after</th>\n",
       "    </tr>\n",
       "  </thead>\n",
       "  <tbody>\n",
       "    <tr>\n",
       "      <th>0</th>\n",
       "      <td>race_white</td>\n",
       "      <td>0.000</td>\n",
       "      <td>0.622</td>\n",
       "    </tr>\n",
       "    <tr>\n",
       "      <th>1</th>\n",
       "      <td>w3momed_hsb</td>\n",
       "      <td>0.000</td>\n",
       "      <td>0.540</td>\n",
       "    </tr>\n",
       "    <tr>\n",
       "      <th>2</th>\n",
       "      <td>p5numpla_1</td>\n",
       "      <td>0.006</td>\n",
       "      <td>0.886</td>\n",
       "    </tr>\n",
       "    <tr>\n",
       "      <th>3</th>\n",
       "      <td>p5numpla_2</td>\n",
       "      <td>0.019</td>\n",
       "      <td>0.663</td>\n",
       "    </tr>\n",
       "    <tr>\n",
       "      <th>4</th>\n",
       "      <td>p5numpla_3</td>\n",
       "      <td>0.170</td>\n",
       "      <td>0.288</td>\n",
       "    </tr>\n",
       "  </tbody>\n",
       "</table>\n",
       "</div>"
      ],
      "text/plain": [
       "           var  before  after\n",
       "0   race_white   0.000  0.622\n",
       "1  w3momed_hsb   0.000  0.540\n",
       "2   p5numpla_1   0.006  0.886\n",
       "3   p5numpla_2   0.019  0.663\n",
       "4   p5numpla_3   0.170  0.288"
      ]
     },
     "execution_count": 349,
     "metadata": {},
     "output_type": "execute_result"
    }
   ],
   "source": [
    "categorical_results"
   ]
  },
  {
   "cell_type": "code",
   "execution_count": 350,
   "metadata": {},
   "outputs": [
    {
     "data": {
      "image/png": "[encoded data removed]",
      "text/plain": [
       "<Figure size 864x360 with 2 Axes>"
      ]
     },
     "metadata": {
      "needs_background": "light"
     },
     "output_type": "display_data"
    },
    {
     "data": {
      "image/png": "[encoded data removed]",
      "text/plain": [
       "<Figure size 864x360 with 2 Axes>"
      ]
     },
     "metadata": {
      "needs_background": "light"
     },
     "output_type": "display_data"
    }
   ],
   "source": [
    "cc = m.compare_continuous(return_table=True)"
   ]
  },
  {
   "cell_type": "code",
   "execution_count": 351,
   "metadata": {},
   "outputs": [
    {
     "data": {
      "text/html": [
       "<div>\n",
       "<style scoped>\n",
       "    .dataframe tbody tr th:only-of-type {\n",
       "        vertical-align: middle;\n",
       "    }\n",
       "\n",
       "    .dataframe tbody tr th {\n",
       "        vertical-align: top;\n",
       "    }\n",
       "\n",
       "    .dataframe thead th {\n",
       "        text-align: right;\n",
       "    }\n",
       "</style>\n",
       "<table border=\"1\" class=\"dataframe\">\n",
       "  <thead>\n",
       "    <tr style=\"text-align: right;\">\n",
       "      <th></th>\n",
       "      <th>value</th>\n",
       "      <th>ks_before</th>\n",
       "      <th>ks_after</th>\n",
       "      <th>std_mean_diff_before</th>\n",
       "      <th>std_mean_diff_after</th>\n",
       "    </tr>\n",
       "  </thead>\n",
       "  <tbody>\n",
       "    <tr>\n",
       "      <th>0</th>\n",
       "      <td>w3income</td>\n",
       "      <td>0.000</td>\n",
       "      <td>0.333</td>\n",
       "      <td>0.596</td>\n",
       "      <td>0.031</td>\n",
       "    </tr>\n",
       "    <tr>\n",
       "      <th>1</th>\n",
       "      <td>p5hmage</td>\n",
       "      <td>0.000</td>\n",
       "      <td>0.901</td>\n",
       "      <td>0.316</td>\n",
       "      <td>-0.003</td>\n",
       "    </tr>\n",
       "  </tbody>\n",
       "</table>\n",
       "</div>"
      ],
      "text/plain": [
       "      value  ks_before  ks_after  std_mean_diff_before  std_mean_diff_after\n",
       "0  w3income      0.000     0.333                 0.596                0.031\n",
       "1   p5hmage      0.000     0.901                 0.316               -0.003"
      ]
     },
     "execution_count": 351,
     "metadata": {},
     "output_type": "execute_result"
    }
   ],
   "source": [
    "descr = pd.DataFrame()\n",
    "descr['value'] = ['w3income','p5hmage']\n",
    "\n",
    "descr = pd.concat([descr\n",
    "                 ,cc[['ks_before', 'ks_after', 'std_mean_diff_before', 'std_mean_diff_after']]]\n",
    "                 ,axis = 1)\n",
    "descr"
   ]
  },
  {
   "cell_type": "markdown",
   "metadata": {},
   "source": [
    "from pymatch.Matcher import Matcher\n",
    "m = Matcher(test\n",
    "            , control\n",
    "            , yvar=response_psm\n",
    "            , exclude=exclude_list)\n",
    "m.fit_scores(balance=True, nmodels=6)\n",
    "m.predict_scores()\n",
    "m.plot_scores()"
   ]
  },
  {
   "cell_type": "markdown",
   "metadata": {},
   "source": [
    "m.tune_threshold(method='random')\n",
    "m.match(method=\"min\", nmatches=1, threshold=0.00025)\n",
    "m.assign_weight_vector()\n",
    "m.matched_data.sort_values(\"match_id\").head(6)"
   ]
  },
  {
   "cell_type": "markdown",
   "metadata": {},
   "source": [
    "#### Cohens"
   ]
  },
  {
   "cell_type": "code",
   "execution_count": 352,
   "metadata": {},
   "outputs": [],
   "source": [
    "from numpy import var\n",
    "from math import sqrt\n",
    "from numpy import mean\n",
    "\n",
    "#https://machinelearningmastery.com/effect-size-measures-in-python/\n",
    "def cohend(d1, d2):\n",
    "    # calculate the size of samples\n",
    "    n1, n2 = len(d1), len(d2)\n",
    "    # calculate the variance of the samples\n",
    "    s1, s2 = var(d1, ddof=1), var(d2, ddof=1)\n",
    "    # calculate the pooled standard deviation\n",
    "    s = sqrt(((n1 - 1) * s1 + (n2 - 1) * s2) / (n1 + n2 - 2))\n",
    "    # calculate the means of the samples\n",
    "    u1, u2 = mean(d1), mean(d2)\n",
    "    # calculate the effect size\n",
    "    return (u1 - u2) / s"
   ]
  },
  {
   "cell_type": "code",
   "execution_count": 353,
   "metadata": {},
   "outputs": [],
   "source": [
    "def cohens_h( prop_1, prop_2):\n",
    "\n",
    "    #x1 = 2.0* np.arcsin(np.sqrt(abs(prop_1)))\n",
    "    #x2 = 2.0* np.arcsin(np.sqrt(abs(prop_2)))\n",
    "    #h = abs(x1-x2)\n",
    "    h = abs(prop_1-prop_2)/np.sqrt((prop_1*(1-prop_1)+prop_2*(1-prop_2))*0.5)\n",
    "    return(h)"
   ]
  },
  {
   "cell_type": "code",
   "execution_count": 354,
   "metadata": {},
   "outputs": [],
   "source": [
    "def matching_analysis(m,numerical_features_list, binary_features_list_extended):\n",
    "    d_initial=[]\n",
    "    for c in numerical_features_list:\n",
    "        d_current = cohend(d1=m.data.loc[m.data[trt_column]==1][c].tolist()\n",
    "                       , d2=m.data.loc[m.data[trt_column]==0][c].tolist())\n",
    "        d_initial.append(d_current)\n",
    "    print(\"cohens d before\")  \n",
    "    print(d_initial)\n",
    "    \n",
    "    d_matched=[]\n",
    "    for c in numerical_features_list:\n",
    "        d_current = cohend(d1=m.matched_data.loc[m.data[trt_column]==1][c].tolist()\n",
    "                       , d2=m.matched_data.loc[m.data[trt_column]==0][c].tolist())\n",
    "        d_matched.append(d_current)\n",
    "\n",
    "    print(\"cohens d after\")    \n",
    "    print(d_matched)\n",
    "    \n",
    "    h_initial=[]\n",
    "    for c in binary_features_list_extended :\n",
    "        prop_test = (m.data.loc[(m.data[trt_column]==1) & (m.data[c]==1)].shape[0]*1.0)/(m.data.shape[0])\n",
    "        prop_control = (m.data.loc[(m.data[trt_column]==0) & (m.data[c]==1)].shape[0]*1.0)/(m.data.shape[0])\n",
    "        h_initial.append(cohens_h( prop_1=prop_test, prop_2=prop_control))\n",
    "    print(\"cohens h before\") \n",
    "    print(h_initial)\n",
    "    \n",
    "    h_matched=[]\n",
    "    for c in binary_features_list_extended :\n",
    "        prop_test = (m.matched_data.loc[(m.matched_data[trt_column]==1) & (m.matched_data[c]==1)].shape[0]*1.0)/(m.matched_data.shape[0])\n",
    "        prop_control = (m.matched_data.loc[(m.matched_data[trt_column]==0) & (m.matched_data[c]==1)].shape[0]*1.0)/(m.matched_data.shape[0])\n",
    "        h_matched.append(cohens_h( prop_1=prop_test, prop_2=prop_control))\n",
    "    print(\"cohens h after\") \n",
    "    print(h_matched)\n",
    "    \n",
    "    mathing_cohens=pd.DataFrame({\"features\": numerical_features_list+binary_features_list_extended\n",
    "                            ,'before': d_initial + h_initial\n",
    "                            , 'after': d_matched + h_matched\n",
    "                            })\n",
    "    return(mathing_cohens)"
   ]
  },
  {
   "cell_type": "code",
   "execution_count": 355,
   "metadata": {},
   "outputs": [
    {
     "name": "stdout",
     "output_type": "stream",
     "text": [
      "cohens d before\n",
      "[0.6093310140823313, 0.31748850033605486]\n",
      "cohens d after\n",
      "[0.016722550781192703, -0.012188612730089043]\n",
      "cohens h before\n",
      "[0.9527005379402826, 0.9817899554717329, 1.6156036598214258, 0.3532625672538508, 0.10989507507767726]\n",
      "cohens h after\n",
      "[0.00932323540728909, 0.016972153356240798, 0.0022646208465550966, 0.013677550286298246, 0.038829461770602064]\n"
     ]
    },
    {
     "data": {
      "text/html": [
       "<div>\n",
       "<style scoped>\n",
       "    .dataframe tbody tr th:only-of-type {\n",
       "        vertical-align: middle;\n",
       "    }\n",
       "\n",
       "    .dataframe tbody tr th {\n",
       "        vertical-align: top;\n",
       "    }\n",
       "\n",
       "    .dataframe thead th {\n",
       "        text-align: right;\n",
       "    }\n",
       "</style>\n",
       "<table border=\"1\" class=\"dataframe\">\n",
       "  <thead>\n",
       "    <tr style=\"text-align: right;\">\n",
       "      <th></th>\n",
       "      <th>features</th>\n",
       "      <th>before</th>\n",
       "      <th>after</th>\n",
       "    </tr>\n",
       "  </thead>\n",
       "  <tbody>\n",
       "    <tr>\n",
       "      <th>0</th>\n",
       "      <td>w3income</td>\n",
       "      <td>0.609</td>\n",
       "      <td>0.017</td>\n",
       "    </tr>\n",
       "    <tr>\n",
       "      <th>1</th>\n",
       "      <td>p5hmage</td>\n",
       "      <td>0.317</td>\n",
       "      <td>-0.012</td>\n",
       "    </tr>\n",
       "    <tr>\n",
       "      <th>2</th>\n",
       "      <td>race_white</td>\n",
       "      <td>0.953</td>\n",
       "      <td>0.009</td>\n",
       "    </tr>\n",
       "    <tr>\n",
       "      <th>3</th>\n",
       "      <td>w3momed_hsb</td>\n",
       "      <td>0.982</td>\n",
       "      <td>0.017</td>\n",
       "    </tr>\n",
       "    <tr>\n",
       "      <th>4</th>\n",
       "      <td>p5numpla_1</td>\n",
       "      <td>1.616</td>\n",
       "      <td>0.002</td>\n",
       "    </tr>\n",
       "    <tr>\n",
       "      <th>5</th>\n",
       "      <td>p5numpla_2</td>\n",
       "      <td>0.353</td>\n",
       "      <td>0.014</td>\n",
       "    </tr>\n",
       "    <tr>\n",
       "      <th>6</th>\n",
       "      <td>p5numpla_3</td>\n",
       "      <td>0.110</td>\n",
       "      <td>0.039</td>\n",
       "    </tr>\n",
       "  </tbody>\n",
       "</table>\n",
       "</div>"
      ],
      "text/plain": [
       "      features  before  after\n",
       "0     w3income   0.609  0.017\n",
       "1      p5hmage   0.317 -0.012\n",
       "2   race_white   0.953  0.009\n",
       "3  w3momed_hsb   0.982  0.017\n",
       "4   p5numpla_1   1.616  0.002\n",
       "5   p5numpla_2   0.353  0.014\n",
       "6   p5numpla_3   0.110  0.039"
      ]
     },
     "execution_count": 355,
     "metadata": {},
     "output_type": "execute_result"
    }
   ],
   "source": [
    "matching_analysis(m,numerical_features_list, binary_features_list_extended)"
   ]
  },
  {
   "cell_type": "code",
   "execution_count": 356,
   "metadata": {},
   "outputs": [],
   "source": [
    "m.data.to_csv(\"temp.csv\")"
   ]
  },
  {
   "cell_type": "markdown",
   "metadata": {},
   "source": [
    "### Analysis of Target Varaiable"
   ]
  },
  {
   "cell_type": "markdown",
   "metadata": {},
   "source": [
    "#### For 1:1 Matching"
   ]
  },
  {
   "cell_type": "code",
   "execution_count": 357,
   "metadata": {},
   "outputs": [],
   "source": [
    "from scipy.stats import ttest_ind, describe, linregress\n",
    "\n",
    "import statsmodels.api as sm\n",
    "import statsmodels.formula.api as smf\n",
    "import statsmodels.iolib as s\n"
   ]
  },
  {
   "cell_type": "code",
   "execution_count": 359,
   "metadata": {},
   "outputs": [],
   "source": [
    "def sample_analysis(dt\n",
    "                    , trt_column\n",
    "                    , trgt_column\n",
    "                   \n",
    "                    , one_parameter_str\n",
    "                    , many_parameter_str):\n",
    "    cat0 = dt[dt[trt_column]==0]\n",
    "    cat1 = dt[dt[trt_column]==1]\n",
    "    \n",
    "    descr0 = list(describe(cat0[trgt_column])[:4])\n",
    "    descr1 = list(describe(cat1[trgt_column])[:4])                                                                                                                                                                                                                                                                                                                                                                                                                                 \n",
    "    descr0[1]=(round(descr0[1][0],3),round(descr0[1][1],3))\n",
    "    descr1[1]=(round(descr1[1][0],3),round(descr1[1][1],3))\n",
    "    \n",
    "    pd.options.display.float_format = \"{:,.3f}\".format\n",
    "\n",
    "    print(\"------------------\")\n",
    "    print(\"t-test\")\n",
    "    print(\"\\n  Description \"+ trt_column + \" = 0\")\n",
    "    print(pd.DataFrame({  'metric':['nobs', 'minmax', 'mean', 'variance']#, 'skewness','kurtosis']\n",
    "                ,'value':descr0}))\n",
    "    print(\"------------------\")\n",
    "    print(\"\\n  Description \"+ trt_column + \" = 1\")\n",
    "    print(pd.DataFrame({  'metric':['nobs', 'minmax', 'mean', 'variance']#, 'skewness','kurtosis']\n",
    "                ,'value':descr1}))\n",
    "    print(\"------------------\")\n",
    "    print(\"\\nt.test data\")\n",
    "    print(ttest_ind(cat0[trgt_column], cat0 [trgt_column]))\n",
    "    \n",
    "    results = smf.ols(one_parameter_str, dt).fit()\n",
    "    print(\"\\n------------------\")\n",
    "    print(\"OLS for TRT parameter\")\n",
    "    print(\"------------------\")\n",
    "    print(results.summary())\n",
    "    \n",
    "    results = smf.ols(many_parameter_str, dt).fit()\n",
    "    print(\"\\n------------------\")\n",
    "    print(\"OLS for ALL parameters\")\n",
    "    print(\"------------------\")\n",
    "    print(results.summary())\n",
    "    "
   ]
  },
  {
   "cell_type": "markdown",
   "metadata": {},
   "source": [
    "##### __BEFORE MATCHING__"
   ]
  },
  {
   "cell_type": "code",
   "execution_count": 360,
   "metadata": {},
   "outputs": [
    {
     "name": "stdout",
     "output_type": "stream",
     "text": [
      "------------------\n",
      "t-test\n",
      "\n",
      "  Description catholic = 0\n",
      "     metric            value\n",
      "0      nobs             7894\n",
      "1    minmax  (-3.638, 3.391)\n",
      "2      mean           -0.026\n",
      "3  variance            1.037\n",
      "------------------\n",
      "\n",
      "  Description catholic = 1\n",
      "     metric            value\n",
      "0      nobs             1352\n",
      "1    minmax  (-2.665, 3.011)\n",
      "2      mean            0.151\n",
      "3  variance            0.759\n",
      "------------------\n",
      "\n",
      "t.test data\n",
      "Ttest_indResult(statistic=0.0, pvalue=1.0)\n",
      "\n",
      "------------------\n",
      "OLS for TRT parameter\n",
      "------------------\n",
      "                            OLS Regression Results                            \n",
      "==============================================================================\n",
      "Dep. Variable:            c5r2mtsc_sd   R-squared:                       0.004\n",
      "Model:                            OLS   Adj. R-squared:                  0.004\n",
      "Method:                 Least Squares   F-statistic:                     36.18\n",
      "Date:                Mon, 27 Apr 2020   Prob (F-statistic):           1.86e-09\n",
      "Time:                        01:20:36   Log-Likelihood:                -13101.\n",
      "No. Observations:                9246   AIC:                         2.621e+04\n",
      "Df Residuals:                    9244   BIC:                         2.622e+04\n",
      "Df Model:                           1                                         \n",
      "Covariance Type:            nonrobust                                         \n",
      "==============================================================================\n",
      "                 coef    std err          t      P>|t|      [0.025      0.975]\n",
      "------------------------------------------------------------------------------\n",
      "Intercept     -0.0258      0.011     -2.300      0.021      -0.048      -0.004\n",
      "catholic       0.1767      0.029      6.015      0.000       0.119       0.234\n",
      "==============================================================================\n",
      "Omnibus:                       70.744   Durbin-Watson:                   1.653\n",
      "Prob(Omnibus):                  0.000   Jarque-Bera (JB):               72.236\n",
      "Skew:                          -0.215   Prob(JB):                     2.06e-16\n",
      "Kurtosis:                       2.949   Cond. No.                         2.90\n",
      "==============================================================================\n",
      "\n",
      "Warnings:\n",
      "[1] Standard Errors assume that the covariance matrix of the errors is correctly specified.\n",
      "\n",
      "------------------\n",
      "OLS for ALL parameters\n",
      "------------------\n",
      "                            OLS Regression Results                            \n",
      "==============================================================================\n",
      "Dep. Variable:            c5r2mtsc_sd   R-squared:                       0.185\n",
      "Model:                            OLS   Adj. R-squared:                  0.184\n",
      "Method:                 Least Squares   F-statistic:                     298.7\n",
      "Date:                Mon, 27 Apr 2020   Prob (F-statistic):               0.00\n",
      "Time:                        01:20:36   Log-Likelihood:                -12176.\n",
      "No. Observations:                9246   AIC:                         2.437e+04\n",
      "Df Residuals:                    9238   BIC:                         2.443e+04\n",
      "Df Model:                           7                                         \n",
      "Covariance Type:            nonrobust                                         \n",
      "=====================================================================================\n",
      "                        coef    std err          t      P>|t|      [0.025      0.975]\n",
      "-------------------------------------------------------------------------------------\n",
      "Intercept            -0.0465      0.019     -2.406      0.016      -0.084      -0.009\n",
      "race_white[T.1]       0.3587      0.020     17.580      0.000       0.319       0.399\n",
      "w3momed_hsb[T.1]     -0.3423      0.021    -16.350      0.000      -0.383      -0.301\n",
      "p5numpla_2[T.1.0]    -0.1077      0.032     -3.405      0.001      -0.170      -0.046\n",
      "p5numpla_3[T.1.0]    -0.1002      0.101     -0.992      0.321      -0.298       0.098\n",
      "catholic             -0.1097      0.027     -4.006      0.000      -0.163      -0.056\n",
      "p5hmage               0.0501      0.010      5.125      0.000       0.031       0.069\n",
      "w3income              0.2231      0.011     20.574      0.000       0.202       0.244\n",
      "==============================================================================\n",
      "Omnibus:                       69.568   Durbin-Watson:                   1.886\n",
      "Prob(Omnibus):                  0.000   Jarque-Bera (JB):               70.980\n",
      "Skew:                          -0.211   Prob(JB):                     3.86e-16\n",
      "Kurtosis:                       3.076   Cond. No.                         13.9\n",
      "==============================================================================\n",
      "\n",
      "Warnings:\n",
      "[1] Standard Errors assume that the covariance matrix of the errors is correctly specified.\n"
     ]
    }
   ],
   "source": [
    "sample_analysis(dt=data_scaled\n",
    "                ,trt_column=trt_column\n",
    "                ,trgt_column=trgt_column\n",
    "                ,one_parameter_str='c5r2mtsc_sd ~ catholic'\n",
    "                ,many_parameter_str='c5r2mtsc_sd ~ catholic + race_white + p5hmage + w3momed_hsb + w3income  + p5numpla_2 + p5numpla_3'\n",
    "               )"
   ]
  },
  {
   "cell_type": "markdown",
   "metadata": {},
   "source": [
    "##### __AFTER MATCHING__"
   ]
  },
  {
   "cell_type": "code",
   "execution_count": 361,
   "metadata": {},
   "outputs": [
    {
     "name": "stdout",
     "output_type": "stream",
     "text": [
      "------------------\n",
      "t-test\n",
      "\n",
      "  Description catholic = 0\n",
      "     metric            value\n",
      "0      nobs             1329\n",
      "1    minmax  (-3.596, 3.391)\n",
      "2      mean            0.310\n",
      "3  variance            0.846\n",
      "------------------\n",
      "\n",
      "  Description catholic = 1\n",
      "     metric            value\n",
      "0      nobs             1329\n",
      "1    minmax  (-2.665, 3.011)\n",
      "2      mean            0.154\n",
      "3  variance            0.756\n",
      "------------------\n",
      "\n",
      "t.test data\n",
      "Ttest_indResult(statistic=0.0, pvalue=1.0)\n",
      "\n",
      "------------------\n",
      "OLS for TRT parameter\n",
      "------------------\n",
      "                            OLS Regression Results                            \n",
      "==============================================================================\n",
      "Dep. Variable:            c5r2mtsc_sd   R-squared:                       0.008\n",
      "Model:                            OLS   Adj. R-squared:                  0.007\n",
      "Method:                 Least Squares   F-statistic:                     20.09\n",
      "Date:                Mon, 27 Apr 2020   Prob (F-statistic):           7.71e-06\n",
      "Time:                        01:20:37   Log-Likelihood:                -3476.3\n",
      "No. Observations:                2658   AIC:                             6957.\n",
      "Df Residuals:                    2656   BIC:                             6968.\n",
      "Df Model:                           1                                         \n",
      "Covariance Type:            nonrobust                                         \n",
      "==============================================================================\n",
      "                 coef    std err          t      P>|t|      [0.025      0.975]\n",
      "------------------------------------------------------------------------------\n",
      "Intercept      0.3095      0.025     12.604      0.000       0.261       0.358\n",
      "catholic      -0.1556      0.035     -4.482      0.000      -0.224      -0.088\n",
      "==============================================================================\n",
      "Omnibus:                       27.091   Durbin-Watson:                   1.647\n",
      "Prob(Omnibus):                  0.000   Jarque-Bera (JB):               27.715\n",
      "Skew:                          -0.240   Prob(JB):                     9.59e-07\n",
      "Kurtosis:                       3.144   Cond. No.                         2.62\n",
      "==============================================================================\n",
      "\n",
      "Warnings:\n",
      "[1] Standard Errors assume that the covariance matrix of the errors is correctly specified.\n",
      "\n",
      "------------------\n",
      "OLS for ALL parameters\n",
      "------------------\n",
      "                            OLS Regression Results                            \n",
      "==============================================================================\n",
      "Dep. Variable:            c5r2mtsc_sd   R-squared:                       0.129\n",
      "Model:                            OLS   Adj. R-squared:                  0.127\n",
      "Method:                 Least Squares   F-statistic:                     56.29\n",
      "Date:                Mon, 27 Apr 2020   Prob (F-statistic):           2.02e-75\n",
      "Time:                        01:20:37   Log-Likelihood:                -3302.1\n",
      "No. Observations:                2658   AIC:                             6620.\n",
      "Df Residuals:                    2650   BIC:                             6667.\n",
      "Df Model:                           7                                         \n",
      "Covariance Type:            nonrobust                                         \n",
      "=====================================================================================\n",
      "                        coef    std err          t      P>|t|      [0.025      0.975]\n",
      "-------------------------------------------------------------------------------------\n",
      "Intercept             0.2880      0.301      0.958      0.338      -0.301       0.878\n",
      "race_white[T.1]       0.2771      0.038      7.245      0.000       0.202       0.352\n",
      "w3momed_hsb[T.1]     -0.3313      0.041     -8.120      0.000      -0.411      -0.251\n",
      "p5numpla_1[T.1.0]    -0.2284      0.298     -0.767      0.443      -0.813       0.356\n",
      "p5numpla_2[T.1.0]    -0.1760      0.303     -0.581      0.562      -0.770       0.418\n",
      "catholic             -0.1550      0.033     -4.757      0.000      -0.219      -0.091\n",
      "p5hmage               0.1128      0.021      5.467      0.000       0.072       0.153\n",
      "w3income              0.1624      0.016      9.849      0.000       0.130       0.195\n",
      "==============================================================================\n",
      "Omnibus:                       23.489   Durbin-Watson:                   1.743\n",
      "Prob(Omnibus):                  0.000   Jarque-Bera (JB):               23.870\n",
      "Skew:                          -0.229   Prob(JB):                     6.56e-06\n",
      "Kurtosis:                       3.073   Cond. No.                         57.6\n",
      "==============================================================================\n",
      "\n",
      "Warnings:\n",
      "[1] Standard Errors assume that the covariance matrix of the errors is correctly specified.\n"
     ]
    }
   ],
   "source": [
    "sample_analysis(dt=m.matched_data\n",
    "                ,trt_column=trt_column\n",
    "                ,trgt_column=trgt_column\n",
    "                ,one_parameter_str='c5r2mtsc_sd ~ catholic'\n",
    "                ,many_parameter_str='c5r2mtsc_sd ~ catholic + race_white + p5hmage + w3momed_hsb + w3income + p5numpla_1 + p5numpla_2'\n",
    "               )"
   ]
  },
  {
   "cell_type": "markdown",
   "metadata": {},
   "source": [
    "#### For 1: N Matching"
   ]
  },
  {
   "cell_type": "markdown",
   "metadata": {},
   "source": [
    "<font color = blue> tried to use trs = 0 but it returned all records from control </font>"
   ]
  },
  {
   "cell_type": "code",
   "execution_count": 362,
   "metadata": {},
   "outputs": [],
   "source": [
    "m.match(method=\"min\", nmatches=k, threshold=trs#,max_rand=2\n",
    "       )"
   ]
  },
  {
   "cell_type": "markdown",
   "metadata": {},
   "source": [
    "<font color = blue> not sure what that function does </font>"
   ]
  },
  {
   "cell_type": "code",
   "execution_count": 363,
   "metadata": {},
   "outputs": [],
   "source": [
    "m.assign_weight_vector()"
   ]
  },
  {
   "cell_type": "code",
   "execution_count": 364,
   "metadata": {},
   "outputs": [
    {
     "data": {
      "text/html": [
       "<div>\n",
       "<style scoped>\n",
       "    .dataframe tbody tr th:only-of-type {\n",
       "        vertical-align: middle;\n",
       "    }\n",
       "\n",
       "    .dataframe tbody tr th {\n",
       "        vertical-align: top;\n",
       "    }\n",
       "\n",
       "    .dataframe thead th {\n",
       "        text-align: right;\n",
       "    }\n",
       "</style>\n",
       "<table border=\"1\" class=\"dataframe\">\n",
       "  <thead>\n",
       "    <tr style=\"text-align: right;\">\n",
       "      <th></th>\n",
       "      <th>freq</th>\n",
       "      <th>n_records</th>\n",
       "    </tr>\n",
       "  </thead>\n",
       "  <tbody>\n",
       "    <tr>\n",
       "      <th>0</th>\n",
       "      <td>1</td>\n",
       "      <td>2361</td>\n",
       "    </tr>\n",
       "    <tr>\n",
       "      <th>1</th>\n",
       "      <td>2</td>\n",
       "      <td>389</td>\n",
       "    </tr>\n",
       "    <tr>\n",
       "      <th>2</th>\n",
       "      <td>3</td>\n",
       "      <td>175</td>\n",
       "    </tr>\n",
       "    <tr>\n",
       "      <th>3</th>\n",
       "      <td>4</td>\n",
       "      <td>91</td>\n",
       "    </tr>\n",
       "    <tr>\n",
       "      <th>4</th>\n",
       "      <td>5</td>\n",
       "      <td>50</td>\n",
       "    </tr>\n",
       "    <tr>\n",
       "      <th>5</th>\n",
       "      <td>6</td>\n",
       "      <td>24</td>\n",
       "    </tr>\n",
       "    <tr>\n",
       "      <th>6</th>\n",
       "      <td>7</td>\n",
       "      <td>52</td>\n",
       "    </tr>\n",
       "    <tr>\n",
       "      <th>7</th>\n",
       "      <td>8</td>\n",
       "      <td>17</td>\n",
       "    </tr>\n",
       "    <tr>\n",
       "      <th>8</th>\n",
       "      <td>9</td>\n",
       "      <td>12</td>\n",
       "    </tr>\n",
       "    <tr>\n",
       "      <th>9</th>\n",
       "      <td>10</td>\n",
       "      <td>10</td>\n",
       "    </tr>\n",
       "    <tr>\n",
       "      <th>10</th>\n",
       "      <td>11</td>\n",
       "      <td>4</td>\n",
       "    </tr>\n",
       "    <tr>\n",
       "      <th>11</th>\n",
       "      <td>12</td>\n",
       "      <td>20</td>\n",
       "    </tr>\n",
       "    <tr>\n",
       "      <th>12</th>\n",
       "      <td>13</td>\n",
       "      <td>7</td>\n",
       "    </tr>\n",
       "    <tr>\n",
       "      <th>13</th>\n",
       "      <td>14</td>\n",
       "      <td>10</td>\n",
       "    </tr>\n",
       "    <tr>\n",
       "      <th>14</th>\n",
       "      <td>15</td>\n",
       "      <td>18</td>\n",
       "    </tr>\n",
       "    <tr>\n",
       "      <th>15</th>\n",
       "      <td>16</td>\n",
       "      <td>6</td>\n",
       "    </tr>\n",
       "    <tr>\n",
       "      <th>16</th>\n",
       "      <td>17</td>\n",
       "      <td>3</td>\n",
       "    </tr>\n",
       "    <tr>\n",
       "      <th>17</th>\n",
       "      <td>18</td>\n",
       "      <td>12</td>\n",
       "    </tr>\n",
       "    <tr>\n",
       "      <th>18</th>\n",
       "      <td>19</td>\n",
       "      <td>16</td>\n",
       "    </tr>\n",
       "    <tr>\n",
       "      <th>19</th>\n",
       "      <td>22</td>\n",
       "      <td>7</td>\n",
       "    </tr>\n",
       "    <tr>\n",
       "      <th>20</th>\n",
       "      <td>24</td>\n",
       "      <td>1</td>\n",
       "    </tr>\n",
       "  </tbody>\n",
       "</table>\n",
       "</div>"
      ],
      "text/plain": [
       "    freq  n_records\n",
       "0      1       2361\n",
       "1      2        389\n",
       "2      3        175\n",
       "3      4         91\n",
       "4      5         50\n",
       "5      6         24\n",
       "6      7         52\n",
       "7      8         17\n",
       "8      9         12\n",
       "9     10         10\n",
       "10    11          4\n",
       "11    12         20\n",
       "12    13          7\n",
       "13    14         10\n",
       "14    15         18\n",
       "15    16          6\n",
       "16    17          3\n",
       "17    18         12\n",
       "18    19         16\n",
       "19    22          7\n",
       "20    24          1"
      ]
     },
     "execution_count": 364,
     "metadata": {},
     "output_type": "execute_result"
    }
   ],
   "source": [
    "m.record_frequency()"
   ]
  },
  {
   "cell_type": "code",
   "execution_count": 365,
   "metadata": {},
   "outputs": [
    {
     "data": {
      "text/plain": [
       "1.0"
      ]
     },
     "execution_count": 365,
     "metadata": {},
     "output_type": "execute_result"
    }
   ],
   "source": [
    "m.prop_retained()"
   ]
  },
  {
   "cell_type": "code",
   "execution_count": 366,
   "metadata": {},
   "outputs": [
    {
     "data": {
      "image/png": "[encoded data removed]",
      "text/plain": [
       "<Figure size 432x288 with 1 Axes>"
      ]
     },
     "metadata": {
      "needs_background": "light"
     },
     "output_type": "display_data"
    },
    {
     "data": {
      "image/png": "[encoded data removed]",
      "text/plain": [
       "<Figure size 432x288 with 1 Axes>"
      ]
     },
     "metadata": {
      "needs_background": "light"
     },
     "output_type": "display_data"
    },
    {
     "data": {
      "image/png": "[encoded data removed]",
      "text/plain": [
       "<Figure size 432x288 with 1 Axes>"
      ]
     },
     "metadata": {
      "needs_background": "light"
     },
     "output_type": "display_data"
    },
    {
     "data": {
      "image/png": "[encoded data removed]",
      "text/plain": [
       "<Figure size 432x288 with 1 Axes>"
      ]
     },
     "metadata": {
      "needs_background": "light"
     },
     "output_type": "display_data"
    },
    {
     "data": {
      "image/png": "[encoded data removed]",
      "text/plain": [
       "<Figure size 432x288 with 1 Axes>"
      ]
     },
     "metadata": {
      "needs_background": "light"
     },
     "output_type": "display_data"
    }
   ],
   "source": [
    "categorical_results = m.compare_categorical(return_table=True)"
   ]
  },
  {
   "cell_type": "code",
   "execution_count": 367,
   "metadata": {},
   "outputs": [
    {
     "data": {
      "text/html": [
       "<div>\n",
       "<style scoped>\n",
       "    .dataframe tbody tr th:only-of-type {\n",
       "        vertical-align: middle;\n",
       "    }\n",
       "\n",
       "    .dataframe tbody tr th {\n",
       "        vertical-align: top;\n",
       "    }\n",
       "\n",
       "    .dataframe thead th {\n",
       "        text-align: right;\n",
       "    }\n",
       "</style>\n",
       "<table border=\"1\" class=\"dataframe\">\n",
       "  <thead>\n",
       "    <tr style=\"text-align: right;\">\n",
       "      <th></th>\n",
       "      <th>var</th>\n",
       "      <th>before</th>\n",
       "      <th>after</th>\n",
       "    </tr>\n",
       "  </thead>\n",
       "  <tbody>\n",
       "    <tr>\n",
       "      <th>0</th>\n",
       "      <td>race_white</td>\n",
       "      <td>0.000</td>\n",
       "      <td>0.428</td>\n",
       "    </tr>\n",
       "    <tr>\n",
       "      <th>1</th>\n",
       "      <td>w3momed_hsb</td>\n",
       "      <td>0.000</td>\n",
       "      <td>0.697</td>\n",
       "    </tr>\n",
       "    <tr>\n",
       "      <th>2</th>\n",
       "      <td>p5numpla_1</td>\n",
       "      <td>0.006</td>\n",
       "      <td>0.000</td>\n",
       "    </tr>\n",
       "    <tr>\n",
       "      <th>3</th>\n",
       "      <td>p5numpla_2</td>\n",
       "      <td>0.019</td>\n",
       "      <td>0.000</td>\n",
       "    </tr>\n",
       "    <tr>\n",
       "      <th>4</th>\n",
       "      <td>p5numpla_3</td>\n",
       "      <td>0.170</td>\n",
       "      <td>0.039</td>\n",
       "    </tr>\n",
       "  </tbody>\n",
       "</table>\n",
       "</div>"
      ],
      "text/plain": [
       "           var  before  after\n",
       "0   race_white   0.000  0.428\n",
       "1  w3momed_hsb   0.000  0.697\n",
       "2   p5numpla_1   0.006  0.000\n",
       "3   p5numpla_2   0.019  0.000\n",
       "4   p5numpla_3   0.170  0.039"
      ]
     },
     "execution_count": 367,
     "metadata": {},
     "output_type": "execute_result"
    }
   ],
   "source": [
    "categorical_results"
   ]
  },
  {
   "cell_type": "code",
   "execution_count": 368,
   "metadata": {},
   "outputs": [
    {
     "data": {
      "image/png": "[encoded data removed]",
      "text/plain": [
       "<Figure size 864x360 with 2 Axes>"
      ]
     },
     "metadata": {
      "needs_background": "light"
     },
     "output_type": "display_data"
    },
    {
     "data": {
      "image/png": "[encoded data removed]",
      "text/plain": [
       "<Figure size 864x360 with 2 Axes>"
      ]
     },
     "metadata": {
      "needs_background": "light"
     },
     "output_type": "display_data"
    }
   ],
   "source": [
    "cc = m.compare_continuous(return_table=True)"
   ]
  },
  {
   "cell_type": "code",
   "execution_count": 369,
   "metadata": {},
   "outputs": [
    {
     "data": {
      "text/html": [
       "<div>\n",
       "<style scoped>\n",
       "    .dataframe tbody tr th:only-of-type {\n",
       "        vertical-align: middle;\n",
       "    }\n",
       "\n",
       "    .dataframe tbody tr th {\n",
       "        vertical-align: top;\n",
       "    }\n",
       "\n",
       "    .dataframe thead th {\n",
       "        text-align: right;\n",
       "    }\n",
       "</style>\n",
       "<table border=\"1\" class=\"dataframe\">\n",
       "  <thead>\n",
       "    <tr style=\"text-align: right;\">\n",
       "      <th></th>\n",
       "      <th>var</th>\n",
       "      <th>ks_before</th>\n",
       "      <th>ks_after</th>\n",
       "      <th>grouped_chisqr_before</th>\n",
       "      <th>grouped_chisqr_after</th>\n",
       "      <th>std_median_diff_before</th>\n",
       "      <th>std_median_diff_after</th>\n",
       "      <th>std_mean_diff_before</th>\n",
       "      <th>std_mean_diff_after</th>\n",
       "    </tr>\n",
       "  </thead>\n",
       "  <tbody>\n",
       "    <tr>\n",
       "      <th>0</th>\n",
       "      <td>w3income</td>\n",
       "      <td>0.000</td>\n",
       "      <td>0.835</td>\n",
       "      <td>0.000</td>\n",
       "      <td>0.457</td>\n",
       "      <td>0.386</td>\n",
       "      <td>0.000</td>\n",
       "      <td>0.596</td>\n",
       "      <td>0.025</td>\n",
       "    </tr>\n",
       "    <tr>\n",
       "      <th>1</th>\n",
       "      <td>p5hmage</td>\n",
       "      <td>0.000</td>\n",
       "      <td>1.000</td>\n",
       "      <td>0.000</td>\n",
       "      <td>0.564</td>\n",
       "      <td>0.468</td>\n",
       "      <td>0.000</td>\n",
       "      <td>0.316</td>\n",
       "      <td>0.004</td>\n",
       "    </tr>\n",
       "  </tbody>\n",
       "</table>\n",
       "</div>"
      ],
      "text/plain": [
       "        var  ks_before  ks_after  grouped_chisqr_before  grouped_chisqr_after  \\\n",
       "0  w3income      0.000     0.835                  0.000                 0.457   \n",
       "1   p5hmage      0.000     1.000                  0.000                 0.564   \n",
       "\n",
       "   std_median_diff_before  std_median_diff_after  std_mean_diff_before  \\\n",
       "0                   0.386                  0.000                 0.596   \n",
       "1                   0.468                  0.000                 0.316   \n",
       "\n",
       "   std_mean_diff_after  \n",
       "0                0.025  \n",
       "1                0.004  "
      ]
     },
     "execution_count": 369,
     "metadata": {},
     "output_type": "execute_result"
    }
   ],
   "source": [
    "cc"
   ]
  },
  {
   "cell_type": "code",
   "execution_count": 370,
   "metadata": {},
   "outputs": [
    {
     "data": {
      "text/html": [
       "<div>\n",
       "<style scoped>\n",
       "    .dataframe tbody tr th:only-of-type {\n",
       "        vertical-align: middle;\n",
       "    }\n",
       "\n",
       "    .dataframe tbody tr th {\n",
       "        vertical-align: top;\n",
       "    }\n",
       "\n",
       "    .dataframe thead th {\n",
       "        text-align: right;\n",
       "    }\n",
       "</style>\n",
       "<table border=\"1\" class=\"dataframe\">\n",
       "  <thead>\n",
       "    <tr style=\"text-align: right;\">\n",
       "      <th></th>\n",
       "      <th>record_id</th>\n",
       "      <th>weight</th>\n",
       "      <th>catholic</th>\n",
       "      <th>c5r2mtsc</th>\n",
       "      <th>c5r2mtsc_sd</th>\n",
       "      <th>childid</th>\n",
       "      <th>race_white</th>\n",
       "      <th>w3momed_hsb</th>\n",
       "      <th>w3income</th>\n",
       "      <th>p5hmage</th>\n",
       "      <th>p5numpla_1</th>\n",
       "      <th>p5numpla_2</th>\n",
       "      <th>p5numpla_3</th>\n",
       "      <th>scores</th>\n",
       "      <th>match_id</th>\n",
       "    </tr>\n",
       "  </thead>\n",
       "  <tbody>\n",
       "    <tr>\n",
       "      <th>0</th>\n",
       "      <td>0</td>\n",
       "      <td>1.000</td>\n",
       "      <td>1</td>\n",
       "      <td>64.604</td>\n",
       "      <td>1.399</td>\n",
       "      <td>0001011C</td>\n",
       "      <td>1</td>\n",
       "      <td>0</td>\n",
       "      <td>0.617</td>\n",
       "      <td>0.021</td>\n",
       "      <td>1.000</td>\n",
       "      <td>0.000</td>\n",
       "      <td>0.000</td>\n",
       "      <td>0.622</td>\n",
       "      <td>0</td>\n",
       "    </tr>\n",
       "    <tr>\n",
       "      <th>2925</th>\n",
       "      <td>3155</td>\n",
       "      <td>0.067</td>\n",
       "      <td>0</td>\n",
       "      <td>52.827</td>\n",
       "      <td>0.180</td>\n",
       "      <td>0345019C</td>\n",
       "      <td>1</td>\n",
       "      <td>0</td>\n",
       "      <td>0.617</td>\n",
       "      <td>0.021</td>\n",
       "      <td>1.000</td>\n",
       "      <td>0.000</td>\n",
       "      <td>0.000</td>\n",
       "      <td>0.622</td>\n",
       "      <td>0</td>\n",
       "    </tr>\n",
       "    <tr>\n",
       "      <th>3011</th>\n",
       "      <td>3266</td>\n",
       "      <td>0.067</td>\n",
       "      <td>0</td>\n",
       "      <td>58.998</td>\n",
       "      <td>0.819</td>\n",
       "      <td>0362020C</td>\n",
       "      <td>1</td>\n",
       "      <td>0</td>\n",
       "      <td>0.617</td>\n",
       "      <td>0.021</td>\n",
       "      <td>1.000</td>\n",
       "      <td>0.000</td>\n",
       "      <td>0.000</td>\n",
       "      <td>0.622</td>\n",
       "      <td>0</td>\n",
       "    </tr>\n",
       "    <tr>\n",
       "      <th>5858</th>\n",
       "      <td>8033</td>\n",
       "      <td>0.067</td>\n",
       "      <td>0</td>\n",
       "      <td>62.595</td>\n",
       "      <td>1.191</td>\n",
       "      <td>1222021C</td>\n",
       "      <td>1</td>\n",
       "      <td>0</td>\n",
       "      <td>0.617</td>\n",
       "      <td>0.021</td>\n",
       "      <td>1.000</td>\n",
       "      <td>0.000</td>\n",
       "      <td>0.000</td>\n",
       "      <td>0.622</td>\n",
       "      <td>0</td>\n",
       "    </tr>\n",
       "    <tr>\n",
       "      <th>2790</th>\n",
       "      <td>3031</td>\n",
       "      <td>0.067</td>\n",
       "      <td>0</td>\n",
       "      <td>49.185</td>\n",
       "      <td>-0.197</td>\n",
       "      <td>0325014C</td>\n",
       "      <td>1</td>\n",
       "      <td>0</td>\n",
       "      <td>0.617</td>\n",
       "      <td>0.021</td>\n",
       "      <td>1.000</td>\n",
       "      <td>0.000</td>\n",
       "      <td>0.000</td>\n",
       "      <td>0.622</td>\n",
       "      <td>0</td>\n",
       "    </tr>\n",
       "    <tr>\n",
       "      <th>5333</th>\n",
       "      <td>7079</td>\n",
       "      <td>0.333</td>\n",
       "      <td>0</td>\n",
       "      <td>56.411</td>\n",
       "      <td>0.551</td>\n",
       "      <td>1012019C</td>\n",
       "      <td>1</td>\n",
       "      <td>0</td>\n",
       "      <td>0.067</td>\n",
       "      <td>0.177</td>\n",
       "      <td>0.000</td>\n",
       "      <td>1.000</td>\n",
       "      <td>0.000</td>\n",
       "      <td>0.570</td>\n",
       "      <td>1</td>\n",
       "    </tr>\n",
       "  </tbody>\n",
       "</table>\n",
       "</div>"
      ],
      "text/plain": [
       "      record_id  weight  catholic  c5r2mtsc  c5r2mtsc_sd   childid race_white  \\\n",
       "0             0   1.000         1    64.604        1.399  0001011C          1   \n",
       "2925       3155   0.067         0    52.827        0.180  0345019C          1   \n",
       "3011       3266   0.067         0    58.998        0.819  0362020C          1   \n",
       "5858       8033   0.067         0    62.595        1.191  1222021C          1   \n",
       "2790       3031   0.067         0    49.185       -0.197  0325014C          1   \n",
       "5333       7079   0.333         0    56.411        0.551  1012019C          1   \n",
       "\n",
       "     w3momed_hsb  w3income  p5hmage p5numpla_1 p5numpla_2 p5numpla_3  scores  \\\n",
       "0              0     0.617    0.021      1.000      0.000      0.000   0.622   \n",
       "2925           0     0.617    0.021      1.000      0.000      0.000   0.622   \n",
       "3011           0     0.617    0.021      1.000      0.000      0.000   0.622   \n",
       "5858           0     0.617    0.021      1.000      0.000      0.000   0.622   \n",
       "2790           0     0.617    0.021      1.000      0.000      0.000   0.622   \n",
       "5333           0     0.067    0.177      0.000      1.000      0.000   0.570   \n",
       "\n",
       "      match_id  \n",
       "0            0  \n",
       "2925         0  \n",
       "3011         0  \n",
       "5858         0  \n",
       "2790         0  \n",
       "5333         1  "
      ]
     },
     "execution_count": 370,
     "metadata": {},
     "output_type": "execute_result"
    }
   ],
   "source": [
    "m.matched_data.sort_values(\"match_id\").head(6)"
   ]
  },
  {
   "cell_type": "code",
   "execution_count": 371,
   "metadata": {},
   "outputs": [
    {
     "data": {
      "text/plain": [
       "(6760, 15)"
      ]
     },
     "execution_count": 371,
     "metadata": {},
     "output_type": "execute_result"
    }
   ],
   "source": [
    "m.matched_data.shape"
   ]
  },
  {
   "cell_type": "code",
   "execution_count": 372,
   "metadata": {},
   "outputs": [
    {
     "data": {
      "text/plain": [
       "1352.0"
      ]
     },
     "execution_count": 372,
     "metadata": {},
     "output_type": "execute_result"
    }
   ],
   "source": [
    "m.matched_data.shape[0]/5"
   ]
  },
  {
   "cell_type": "code",
   "execution_count": 373,
   "metadata": {},
   "outputs": [
    {
     "name": "stdout",
     "output_type": "stream",
     "text": [
      "cohens d before\n",
      "[0.6093310140823313, 0.31748850033605486]\n",
      "cohens d after\n",
      "[0.024677391964478487, 0.004209263267810509]\n",
      "cohens h before\n",
      "[0.9527005379402826, 0.9817899554717329, 1.6156036598214258, 0.3532625672538508, 0.10989507507767726]\n",
      "cohens h after\n",
      "[1.0599907011074903, 0.42465090780560316, 1.410399141448492, 0.1471433841725167, 0.008605434541985183]\n"
     ]
    },
    {
     "data": {
      "text/html": [
       "<div>\n",
       "<style scoped>\n",
       "    .dataframe tbody tr th:only-of-type {\n",
       "        vertical-align: middle;\n",
       "    }\n",
       "\n",
       "    .dataframe tbody tr th {\n",
       "        vertical-align: top;\n",
       "    }\n",
       "\n",
       "    .dataframe thead th {\n",
       "        text-align: right;\n",
       "    }\n",
       "</style>\n",
       "<table border=\"1\" class=\"dataframe\">\n",
       "  <thead>\n",
       "    <tr style=\"text-align: right;\">\n",
       "      <th></th>\n",
       "      <th>features</th>\n",
       "      <th>before</th>\n",
       "      <th>after</th>\n",
       "    </tr>\n",
       "  </thead>\n",
       "  <tbody>\n",
       "    <tr>\n",
       "      <th>0</th>\n",
       "      <td>w3income</td>\n",
       "      <td>0.609</td>\n",
       "      <td>0.025</td>\n",
       "    </tr>\n",
       "    <tr>\n",
       "      <th>1</th>\n",
       "      <td>p5hmage</td>\n",
       "      <td>0.317</td>\n",
       "      <td>0.004</td>\n",
       "    </tr>\n",
       "    <tr>\n",
       "      <th>2</th>\n",
       "      <td>race_white</td>\n",
       "      <td>0.953</td>\n",
       "      <td>1.060</td>\n",
       "    </tr>\n",
       "    <tr>\n",
       "      <th>3</th>\n",
       "      <td>w3momed_hsb</td>\n",
       "      <td>0.982</td>\n",
       "      <td>0.425</td>\n",
       "    </tr>\n",
       "    <tr>\n",
       "      <th>4</th>\n",
       "      <td>p5numpla_1</td>\n",
       "      <td>1.616</td>\n",
       "      <td>1.410</td>\n",
       "    </tr>\n",
       "    <tr>\n",
       "      <th>5</th>\n",
       "      <td>p5numpla_2</td>\n",
       "      <td>0.353</td>\n",
       "      <td>0.147</td>\n",
       "    </tr>\n",
       "    <tr>\n",
       "      <th>6</th>\n",
       "      <td>p5numpla_3</td>\n",
       "      <td>0.110</td>\n",
       "      <td>0.009</td>\n",
       "    </tr>\n",
       "  </tbody>\n",
       "</table>\n",
       "</div>"
      ],
      "text/plain": [
       "      features  before  after\n",
       "0     w3income   0.609  0.025\n",
       "1      p5hmage   0.317  0.004\n",
       "2   race_white   0.953  1.060\n",
       "3  w3momed_hsb   0.982  0.425\n",
       "4   p5numpla_1   1.616  1.410\n",
       "5   p5numpla_2   0.353  0.147\n",
       "6   p5numpla_3   0.110  0.009"
      ]
     },
     "execution_count": 373,
     "metadata": {},
     "output_type": "execute_result"
    }
   ],
   "source": [
    "matching_analysis(m,numerical_features_list, binary_features_list_extended)"
   ]
  },
  {
   "cell_type": "markdown",
   "metadata": {},
   "source": [
    "#### Simulation"
   ]
  },
  {
   "cell_type": "code",
   "execution_count": 374,
   "metadata": {},
   "outputs": [],
   "source": [
    "def simulations_for_deltas(test, control, trgt_column, match_column, sumulations_n):\n",
    "    print(\"simulation for: \" + trgt_column)\n",
    "    print(\"n simulations: \" + str(sumulations_n))\n",
    "    \n",
    "    trgt_value_control = test[trgt_column].mean()\n",
    "    print(\"test target value mean (trt=0) : \" + str(trgt_value_control))\n",
    "    \n",
    "    ids = set(control[match_column].tolist())\n",
    "    \n",
    "    sim_matched_control_sample = pd.concat(\n",
    "        list(map(lambda x: resample(control.loc[control[match_column] == x]\n",
    "                                , n_samples=sumulations_n\n",
    "                                , replace=True)\n",
    "             , ids)))\n",
    "    sim_matched_control_sample['sim_id'] = list(range(sumulations_n))*len(ids)\n",
    "    \n",
    "    deltas = pd.pivot_table(data =sim_matched_control_sample\n",
    "                       , index = ['sim_id']\n",
    "                       , columns = None\n",
    "                       , values = trgt_column\n",
    "                       , aggfunc='mean')\n",
    "    \n",
    "    deltas[trgt_column + 'test_value'] = trgt_value_control\n",
    "    deltas[trgt_column + '_delta'] = deltas[trgt_column] - trgt_value_control\n",
    "    \n",
    "    \n",
    "    return(deltas)"
   ]
  },
  {
   "cell_type": "code",
   "execution_count": 375,
   "metadata": {},
   "outputs": [
    {
     "name": "stdout",
     "output_type": "stream",
     "text": [
      "simulation for: c5r2mtsc_sd\n",
      "n simulations: 500\n",
      "test target value mean (trt=0) : 0.1508797691067188\n",
      "delta control - test quantiles(empirical): [0.025, 0.5, 0.975]\n"
     ]
    },
    {
     "data": {
      "text/plain": [
       "array([0.0716558, 0.10868  , 0.150537 ])"
      ]
     },
     "execution_count": 375,
     "metadata": {},
     "output_type": "execute_result"
    }
   ],
   "source": [
    "sim_delta = simulations_for_deltas(test=m.matched_data.loc[m.matched_data[trt_column] == 1]\n",
    "                      , control=m.matched_data.loc[m.matched_data[trt_column] == 0]\n",
    "                      , trgt_column=trgt_column\n",
    "                      , match_column='match_id'\n",
    "                      , sumulations_n=sumulations_n)\n",
    "print(\"delta control - test quantiles(empirical): [0.025, 0.5, 0.975]\")\n",
    "np.quantile(a = sim_delta[trgt_column + '_delta'], q = [0.025, 0.5, 0.975])"
   ]
  },
  {
   "cell_type": "markdown",
   "metadata": {},
   "source": [
    "#### 1:1 NN"
   ]
  },
  {
   "cell_type": "code",
   "execution_count": 376,
   "metadata": {},
   "outputs": [],
   "source": [
    "m.match(method=\"min\", nmatches=1, threshold=trs#,max_rand=2\n",
    "       )"
   ]
  },
  {
   "cell_type": "code",
   "execution_count": 377,
   "metadata": {},
   "outputs": [],
   "source": [
    "m.assign_weight_vector()"
   ]
  },
  {
   "cell_type": "code",
   "execution_count": 378,
   "metadata": {},
   "outputs": [
    {
     "data": {
      "text/html": [
       "<div>\n",
       "<style scoped>\n",
       "    .dataframe tbody tr th:only-of-type {\n",
       "        vertical-align: middle;\n",
       "    }\n",
       "\n",
       "    .dataframe tbody tr th {\n",
       "        vertical-align: top;\n",
       "    }\n",
       "\n",
       "    .dataframe thead th {\n",
       "        text-align: right;\n",
       "    }\n",
       "</style>\n",
       "<table border=\"1\" class=\"dataframe\">\n",
       "  <thead>\n",
       "    <tr style=\"text-align: right;\">\n",
       "      <th></th>\n",
       "      <th>freq</th>\n",
       "      <th>n_records</th>\n",
       "    </tr>\n",
       "  </thead>\n",
       "  <tbody>\n",
       "    <tr>\n",
       "      <th>0</th>\n",
       "      <td>1</td>\n",
       "      <td>1656</td>\n",
       "    </tr>\n",
       "    <tr>\n",
       "      <th>1</th>\n",
       "      <td>2</td>\n",
       "      <td>94</td>\n",
       "    </tr>\n",
       "    <tr>\n",
       "      <th>2</th>\n",
       "      <td>3</td>\n",
       "      <td>39</td>\n",
       "    </tr>\n",
       "    <tr>\n",
       "      <th>3</th>\n",
       "      <td>4</td>\n",
       "      <td>19</td>\n",
       "    </tr>\n",
       "    <tr>\n",
       "      <th>4</th>\n",
       "      <td>5</td>\n",
       "      <td>14</td>\n",
       "    </tr>\n",
       "    <tr>\n",
       "      <th>5</th>\n",
       "      <td>6</td>\n",
       "      <td>5</td>\n",
       "    </tr>\n",
       "    <tr>\n",
       "      <th>6</th>\n",
       "      <td>7</td>\n",
       "      <td>12</td>\n",
       "    </tr>\n",
       "    <tr>\n",
       "      <th>7</th>\n",
       "      <td>8</td>\n",
       "      <td>4</td>\n",
       "    </tr>\n",
       "    <tr>\n",
       "      <th>8</th>\n",
       "      <td>9</td>\n",
       "      <td>3</td>\n",
       "    </tr>\n",
       "    <tr>\n",
       "      <th>9</th>\n",
       "      <td>10</td>\n",
       "      <td>2</td>\n",
       "    </tr>\n",
       "    <tr>\n",
       "      <th>10</th>\n",
       "      <td>11</td>\n",
       "      <td>1</td>\n",
       "    </tr>\n",
       "    <tr>\n",
       "      <th>11</th>\n",
       "      <td>12</td>\n",
       "      <td>5</td>\n",
       "    </tr>\n",
       "    <tr>\n",
       "      <th>12</th>\n",
       "      <td>13</td>\n",
       "      <td>2</td>\n",
       "    </tr>\n",
       "    <tr>\n",
       "      <th>13</th>\n",
       "      <td>14</td>\n",
       "      <td>3</td>\n",
       "    </tr>\n",
       "    <tr>\n",
       "      <th>14</th>\n",
       "      <td>15</td>\n",
       "      <td>5</td>\n",
       "    </tr>\n",
       "    <tr>\n",
       "      <th>15</th>\n",
       "      <td>16</td>\n",
       "      <td>1</td>\n",
       "    </tr>\n",
       "    <tr>\n",
       "      <th>16</th>\n",
       "      <td>18</td>\n",
       "      <td>3</td>\n",
       "    </tr>\n",
       "    <tr>\n",
       "      <th>17</th>\n",
       "      <td>19</td>\n",
       "      <td>4</td>\n",
       "    </tr>\n",
       "    <tr>\n",
       "      <th>18</th>\n",
       "      <td>22</td>\n",
       "      <td>2</td>\n",
       "    </tr>\n",
       "  </tbody>\n",
       "</table>\n",
       "</div>"
      ],
      "text/plain": [
       "    freq  n_records\n",
       "0      1       1656\n",
       "1      2         94\n",
       "2      3         39\n",
       "3      4         19\n",
       "4      5         14\n",
       "5      6          5\n",
       "6      7         12\n",
       "7      8          4\n",
       "8      9          3\n",
       "9     10          2\n",
       "10    11          1\n",
       "11    12          5\n",
       "12    13          2\n",
       "13    14          3\n",
       "14    15          5\n",
       "15    16          1\n",
       "16    18          3\n",
       "17    19          4\n",
       "18    22          2"
      ]
     },
     "execution_count": 378,
     "metadata": {},
     "output_type": "execute_result"
    }
   ],
   "source": [
    "m.record_frequency()"
   ]
  },
  {
   "cell_type": "code",
   "execution_count": 379,
   "metadata": {},
   "outputs": [
    {
     "data": {
      "text/plain": [
       "1.0"
      ]
     },
     "execution_count": 379,
     "metadata": {},
     "output_type": "execute_result"
    }
   ],
   "source": [
    "m.prop_retained()"
   ]
  },
  {
   "cell_type": "code",
   "execution_count": 380,
   "metadata": {},
   "outputs": [
    {
     "data": {
      "image/png": "[encoded data removed]",
      "text/plain": [
       "<Figure size 432x288 with 1 Axes>"
      ]
     },
     "metadata": {
      "needs_background": "light"
     },
     "output_type": "display_data"
    },
    {
     "data": {
      "image/png": "[encoded data removed]",
      "text/plain": [
       "<Figure size 432x288 with 1 Axes>"
      ]
     },
     "metadata": {
      "needs_background": "light"
     },
     "output_type": "display_data"
    },
    {
     "data": {
      "image/png": "[encoded data removed]",
      "text/plain": [
       "<Figure size 432x288 with 1 Axes>"
      ]
     },
     "metadata": {
      "needs_background": "light"
     },
     "output_type": "display_data"
    },
    {
     "data": {
      "image/png": "[encoded data removed]",
      "text/plain": [
       "<Figure size 432x288 with 1 Axes>"
      ]
     },
     "metadata": {
      "needs_background": "light"
     },
     "output_type": "display_data"
    },
    {
     "data": {
      "image/png": "[encoded data removed]",
      "text/plain": [
       "<Figure size 432x288 with 1 Axes>"
      ]
     },
     "metadata": {
      "needs_background": "light"
     },
     "output_type": "display_data"
    }
   ],
   "source": [
    "categorical_results = m.compare_categorical(return_table=True)"
   ]
  },
  {
   "cell_type": "code",
   "execution_count": 381,
   "metadata": {},
   "outputs": [
    {
     "data": {
      "text/html": [
       "<div>\n",
       "<style scoped>\n",
       "    .dataframe tbody tr th:only-of-type {\n",
       "        vertical-align: middle;\n",
       "    }\n",
       "\n",
       "    .dataframe tbody tr th {\n",
       "        vertical-align: top;\n",
       "    }\n",
       "\n",
       "    .dataframe thead th {\n",
       "        text-align: right;\n",
       "    }\n",
       "</style>\n",
       "<table border=\"1\" class=\"dataframe\">\n",
       "  <thead>\n",
       "    <tr style=\"text-align: right;\">\n",
       "      <th></th>\n",
       "      <th>var</th>\n",
       "      <th>before</th>\n",
       "      <th>after</th>\n",
       "    </tr>\n",
       "  </thead>\n",
       "  <tbody>\n",
       "    <tr>\n",
       "      <th>0</th>\n",
       "      <td>race_white</td>\n",
       "      <td>0.000</td>\n",
       "      <td>0.826</td>\n",
       "    </tr>\n",
       "    <tr>\n",
       "      <th>1</th>\n",
       "      <td>w3momed_hsb</td>\n",
       "      <td>0.000</td>\n",
       "      <td>0.710</td>\n",
       "    </tr>\n",
       "    <tr>\n",
       "      <th>2</th>\n",
       "      <td>p5numpla_1</td>\n",
       "      <td>0.006</td>\n",
       "      <td>0.012</td>\n",
       "    </tr>\n",
       "    <tr>\n",
       "      <th>3</th>\n",
       "      <td>p5numpla_2</td>\n",
       "      <td>0.019</td>\n",
       "      <td>0.029</td>\n",
       "    </tr>\n",
       "    <tr>\n",
       "      <th>4</th>\n",
       "      <td>p5numpla_3</td>\n",
       "      <td>0.170</td>\n",
       "      <td>0.182</td>\n",
       "    </tr>\n",
       "  </tbody>\n",
       "</table>\n",
       "</div>"
      ],
      "text/plain": [
       "           var  before  after\n",
       "0   race_white   0.000  0.826\n",
       "1  w3momed_hsb   0.000  0.710\n",
       "2   p5numpla_1   0.006  0.012\n",
       "3   p5numpla_2   0.019  0.029\n",
       "4   p5numpla_3   0.170  0.182"
      ]
     },
     "execution_count": 381,
     "metadata": {},
     "output_type": "execute_result"
    }
   ],
   "source": [
    "categorical_results"
   ]
  },
  {
   "cell_type": "code",
   "execution_count": 382,
   "metadata": {},
   "outputs": [
    {
     "data": {
      "image/png": "[encoded data removed]",
      "text/plain": [
       "<Figure size 864x360 with 2 Axes>"
      ]
     },
     "metadata": {
      "needs_background": "light"
     },
     "output_type": "display_data"
    },
    {
     "data": {
      "image/png": "[encoded data removed]",
      "text/plain": [
       "<Figure size 864x360 with 2 Axes>"
      ]
     },
     "metadata": {
      "needs_background": "light"
     },
     "output_type": "display_data"
    }
   ],
   "source": [
    "cc = m.compare_continuous(return_table=True)"
   ]
  },
  {
   "cell_type": "code",
   "execution_count": 383,
   "metadata": {},
   "outputs": [
    {
     "data": {
      "text/html": [
       "<div>\n",
       "<style scoped>\n",
       "    .dataframe tbody tr th:only-of-type {\n",
       "        vertical-align: middle;\n",
       "    }\n",
       "\n",
       "    .dataframe tbody tr th {\n",
       "        vertical-align: top;\n",
       "    }\n",
       "\n",
       "    .dataframe thead th {\n",
       "        text-align: right;\n",
       "    }\n",
       "</style>\n",
       "<table border=\"1\" class=\"dataframe\">\n",
       "  <thead>\n",
       "    <tr style=\"text-align: right;\">\n",
       "      <th></th>\n",
       "      <th>var</th>\n",
       "      <th>ks_before</th>\n",
       "      <th>ks_after</th>\n",
       "      <th>grouped_chisqr_before</th>\n",
       "      <th>grouped_chisqr_after</th>\n",
       "      <th>std_median_diff_before</th>\n",
       "      <th>std_median_diff_after</th>\n",
       "      <th>std_mean_diff_before</th>\n",
       "      <th>std_mean_diff_after</th>\n",
       "    </tr>\n",
       "  </thead>\n",
       "  <tbody>\n",
       "    <tr>\n",
       "      <th>0</th>\n",
       "      <td>w3income</td>\n",
       "      <td>0.000</td>\n",
       "      <td>0.972</td>\n",
       "      <td>0.000</td>\n",
       "      <td>0.785</td>\n",
       "      <td>0.386</td>\n",
       "      <td>0.000</td>\n",
       "      <td>0.596</td>\n",
       "      <td>0.020</td>\n",
       "    </tr>\n",
       "    <tr>\n",
       "      <th>1</th>\n",
       "      <td>p5hmage</td>\n",
       "      <td>0.000</td>\n",
       "      <td>1.000</td>\n",
       "      <td>0.000</td>\n",
       "      <td>0.973</td>\n",
       "      <td>0.468</td>\n",
       "      <td>0.000</td>\n",
       "      <td>0.316</td>\n",
       "      <td>0.006</td>\n",
       "    </tr>\n",
       "  </tbody>\n",
       "</table>\n",
       "</div>"
      ],
      "text/plain": [
       "        var  ks_before  ks_after  grouped_chisqr_before  grouped_chisqr_after  \\\n",
       "0  w3income      0.000     0.972                  0.000                 0.785   \n",
       "1   p5hmage      0.000     1.000                  0.000                 0.973   \n",
       "\n",
       "   std_median_diff_before  std_median_diff_after  std_mean_diff_before  \\\n",
       "0                   0.386                  0.000                 0.596   \n",
       "1                   0.468                  0.000                 0.316   \n",
       "\n",
       "   std_mean_diff_after  \n",
       "0                0.020  \n",
       "1                0.006  "
      ]
     },
     "execution_count": 383,
     "metadata": {},
     "output_type": "execute_result"
    }
   ],
   "source": [
    "cc"
   ]
  },
  {
   "cell_type": "code",
   "execution_count": 384,
   "metadata": {},
   "outputs": [
    {
     "name": "stdout",
     "output_type": "stream",
     "text": [
      "cohens d before\n",
      "[0.6093310140823313, 0.31748850033605486]\n",
      "cohens d after\n",
      "[0.02017866242713849, 0.005575777120550535]\n",
      "cohens h before\n",
      "[0.9527005379402826, 0.9817899554717329, 1.6156036598214258, 0.3532625672538508, 0.10989507507767726]\n",
      "cohens h after\n",
      "[0.004591691214716084, 0.010636830370501464, 0.025960152502929375, 0.060286438192112254, 0.045376796481663983]\n"
     ]
    },
    {
     "data": {
      "text/html": [
       "<div>\n",
       "<style scoped>\n",
       "    .dataframe tbody tr th:only-of-type {\n",
       "        vertical-align: middle;\n",
       "    }\n",
       "\n",
       "    .dataframe tbody tr th {\n",
       "        vertical-align: top;\n",
       "    }\n",
       "\n",
       "    .dataframe thead th {\n",
       "        text-align: right;\n",
       "    }\n",
       "</style>\n",
       "<table border=\"1\" class=\"dataframe\">\n",
       "  <thead>\n",
       "    <tr style=\"text-align: right;\">\n",
       "      <th></th>\n",
       "      <th>features</th>\n",
       "      <th>before</th>\n",
       "      <th>after</th>\n",
       "    </tr>\n",
       "  </thead>\n",
       "  <tbody>\n",
       "    <tr>\n",
       "      <th>0</th>\n",
       "      <td>w3income</td>\n",
       "      <td>0.609</td>\n",
       "      <td>0.020</td>\n",
       "    </tr>\n",
       "    <tr>\n",
       "      <th>1</th>\n",
       "      <td>p5hmage</td>\n",
       "      <td>0.317</td>\n",
       "      <td>0.006</td>\n",
       "    </tr>\n",
       "    <tr>\n",
       "      <th>2</th>\n",
       "      <td>race_white</td>\n",
       "      <td>0.953</td>\n",
       "      <td>0.005</td>\n",
       "    </tr>\n",
       "    <tr>\n",
       "      <th>3</th>\n",
       "      <td>w3momed_hsb</td>\n",
       "      <td>0.982</td>\n",
       "      <td>0.011</td>\n",
       "    </tr>\n",
       "    <tr>\n",
       "      <th>4</th>\n",
       "      <td>p5numpla_1</td>\n",
       "      <td>1.616</td>\n",
       "      <td>0.026</td>\n",
       "    </tr>\n",
       "    <tr>\n",
       "      <th>5</th>\n",
       "      <td>p5numpla_2</td>\n",
       "      <td>0.353</td>\n",
       "      <td>0.060</td>\n",
       "    </tr>\n",
       "    <tr>\n",
       "      <th>6</th>\n",
       "      <td>p5numpla_3</td>\n",
       "      <td>0.110</td>\n",
       "      <td>0.045</td>\n",
       "    </tr>\n",
       "  </tbody>\n",
       "</table>\n",
       "</div>"
      ],
      "text/plain": [
       "      features  before  after\n",
       "0     w3income   0.609  0.020\n",
       "1      p5hmage   0.317  0.006\n",
       "2   race_white   0.953  0.005\n",
       "3  w3momed_hsb   0.982  0.011\n",
       "4   p5numpla_1   1.616  0.026\n",
       "5   p5numpla_2   0.353  0.060\n",
       "6   p5numpla_3   0.110  0.045"
      ]
     },
     "execution_count": 384,
     "metadata": {},
     "output_type": "execute_result"
    }
   ],
   "source": [
    "matching_analysis(m,numerical_features_list, binary_features_list_extended)"
   ]
  },
  {
   "cell_type": "code",
   "execution_count": 385,
   "metadata": {},
   "outputs": [
    {
     "name": "stdout",
     "output_type": "stream",
     "text": [
      "------------------\n",
      "t-test\n",
      "\n",
      "  Description catholic = 0\n",
      "     metric            value\n",
      "0      nobs             1352\n",
      "1    minmax  (-2.808, 3.121)\n",
      "2      mean            0.253\n",
      "3  variance            1.037\n",
      "------------------\n",
      "\n",
      "  Description catholic = 1\n",
      "     metric            value\n",
      "0      nobs             1352\n",
      "1    minmax  (-2.665, 3.011)\n",
      "2      mean            0.151\n",
      "3  variance            0.759\n",
      "------------------\n",
      "\n",
      "t.test data\n",
      "Ttest_indResult(statistic=0.0, pvalue=1.0)\n",
      "\n",
      "------------------\n",
      "OLS for TRT parameter\n",
      "------------------\n",
      "                            OLS Regression Results                            \n",
      "==============================================================================\n",
      "Dep. Variable:            c5r2mtsc_sd   R-squared:                       0.003\n",
      "Model:                            OLS   Adj. R-squared:                  0.003\n",
      "Method:                 Least Squares   F-statistic:                     7.916\n",
      "Date:                Mon, 27 Apr 2020   Prob (F-statistic):            0.00494\n",
      "Time:                        01:21:32   Log-Likelihood:                -3690.1\n",
      "No. Observations:                2704   AIC:                             7384.\n",
      "Df Residuals:                    2702   BIC:                             7396.\n",
      "Df Model:                           1                                         \n",
      "Covariance Type:            nonrobust                                         \n",
      "==============================================================================\n",
      "                 coef    std err          t      P>|t|      [0.025      0.975]\n",
      "------------------------------------------------------------------------------\n",
      "Intercept      0.2534      0.026      9.834      0.000       0.203       0.304\n",
      "catholic      -0.1025      0.036     -2.814      0.005      -0.174      -0.031\n",
      "==============================================================================\n",
      "Omnibus:                       27.475   Durbin-Watson:                   1.119\n",
      "Prob(Omnibus):                  0.000   Jarque-Bera (JB):               27.430\n",
      "Skew:                          -0.230   Prob(JB):                     1.11e-06\n",
      "Kurtosis:                       2.819   Cond. No.                         2.62\n",
      "==============================================================================\n",
      "\n",
      "Warnings:\n",
      "[1] Standard Errors assume that the covariance matrix of the errors is correctly specified.\n",
      "\n",
      "------------------\n",
      "OLS for ALL parameters\n",
      "------------------\n",
      "                            OLS Regression Results                            \n",
      "==============================================================================\n",
      "Dep. Variable:            c5r2mtsc_sd   R-squared:                       0.109\n",
      "Model:                            OLS   Adj. R-squared:                  0.107\n",
      "Method:                 Least Squares   F-statistic:                     54.77\n",
      "Date:                Mon, 27 Apr 2020   Prob (F-statistic):           4.98e-64\n",
      "Time:                        01:21:32   Log-Likelihood:                -3538.6\n",
      "No. Observations:                2704   AIC:                             7091.\n",
      "Df Residuals:                    2697   BIC:                             7132.\n",
      "Df Model:                           6                                         \n",
      "Covariance Type:            nonrobust                                         \n",
      "=====================================================================================\n",
      "                        coef    std err          t      P>|t|      [0.025      0.975]\n",
      "-------------------------------------------------------------------------------------\n",
      "Intercept             0.1003      0.041      2.465      0.014       0.021       0.180\n",
      "race_white[T.1]       0.1596      0.040      3.975      0.000       0.081       0.238\n",
      "w3momed_hsb[T.1]     -0.3568      0.043     -8.309      0.000      -0.441      -0.273\n",
      "p5numpla_2[T.1.0]    -0.0142      0.068     -0.210      0.834      -0.147       0.119\n",
      "catholic             -0.1035      0.035     -2.996      0.003      -0.171      -0.036\n",
      "p5hmage               0.0687      0.022      3.152      0.002       0.026       0.111\n",
      "w3income              0.1928      0.018     10.901      0.000       0.158       0.227\n",
      "==============================================================================\n",
      "Omnibus:                       25.460   Durbin-Watson:                   1.186\n",
      "Prob(Omnibus):                  0.000   Jarque-Bera (JB):               24.239\n",
      "Skew:                          -0.200   Prob(JB):                     5.45e-06\n",
      "Kurtosis:                       2.765   Cond. No.                         6.32\n",
      "==============================================================================\n",
      "\n",
      "Warnings:\n",
      "[1] Standard Errors assume that the covariance matrix of the errors is correctly specified.\n"
     ]
    }
   ],
   "source": [
    "sample_analysis(dt=m.matched_data\n",
    "                ,trt_column=trt_column\n",
    "                ,trgt_column=trgt_column\n",
    "                ,one_parameter_str='c5r2mtsc_sd ~ catholic'\n",
    "                ,many_parameter_str='c5r2mtsc_sd ~ catholic + race_white + p5hmage + w3momed_hsb + w3income + p5numpla_2'\n",
    "               )"
   ]
  },
  {
   "cell_type": "markdown",
   "metadata": {},
   "source": [
    "### Distane Based Matching"
   ]
  },
  {
   "cell_type": "markdown",
   "metadata": {},
   "source": [
    "#### 1:N Matching"
   ]
  },
  {
   "cell_type": "code",
   "execution_count": 386,
   "metadata": {},
   "outputs": [
    {
     "name": "stdout",
     "output_type": "stream",
     "text": [
      "['race_white', 'w3momed_hsb', 'w3income', 'p5hmage', 'p5numpla_1', 'p5numpla_2', 'p5numpla_3']\n"
     ]
    }
   ],
   "source": [
    "l = list(data_scaled.columns)\n",
    "l.remove(trt_column)\n",
    "l.remove(trgt_column_raw)\n",
    "l.remove(trgt_column)\n",
    "l.remove('childid')\n",
    "print(l)\n",
    "\n",
    "for c in clm:\n",
    "    data_scaled[c] =data_scaled[c].astype('int')"
   ]
  },
  {
   "cell_type": "code",
   "execution_count": 387,
   "metadata": {},
   "outputs": [],
   "source": [
    "data_scaled_tmp = data_scaled\n",
    "data_scaled_tmp.reset_index(inplace = True)\n",
    "data_scaled_tmp.drop(labels='index', axis=1,inplace=True)\n",
    "\n",
    "test_scaled = data_scaled_tmp.loc[data_scaled_tmp[trt_column] == 1,l]\n",
    "control_scaled = data_scaled_tmp.loc[data_scaled_tmp[trt_column] == 0,l]\n",
    "\n",
    "tree = BallTree(data_scaled[l], leaf_size=1) \n",
    "#tree = BallTree(control_scaled, leaf_size=1) "
   ]
  },
  {
   "cell_type": "code",
   "execution_count": 388,
   "metadata": {},
   "outputs": [],
   "source": [
    "t = tree.query_radius(test_scaled, r=rr, count_only=False)"
   ]
  },
  {
   "cell_type": "code",
   "execution_count": 389,
   "metadata": {},
   "outputs": [],
   "source": [
    "#tmp = []\n",
    "#for i in range(len(t)):\n",
    "#    tmp = tmp + list(t[i])\n",
    "#set(tmp)\n",
    "\n",
    "#pd.DataFrame(list(set(tmp))).to_csv(\"tem.csv\")"
   ]
  },
  {
   "cell_type": "code",
   "execution_count": 390,
   "metadata": {},
   "outputs": [],
   "source": [
    "#tmp = list(t[3])\n",
    "#tmp.sort()\n",
    "#tmp"
   ]
  },
  {
   "cell_type": "code",
   "execution_count": 391,
   "metadata": {},
   "outputs": [],
   "source": [
    "indexes_test = list(test_scaled.index)"
   ]
  },
  {
   "cell_type": "code",
   "execution_count": 392,
   "metadata": {},
   "outputs": [],
   "source": [
    "for i in range(len(t)):\n",
    "    t_initial_df = pd.DataFrame({'matched_index': list(t[i])})\n",
    "    t_cleaned = np.array(t_initial_df[~t_initial_df.matched_index.isin(indexes_test)]['matched_index'].tolist())\n",
    "    t[i] = t_cleaned"
   ]
  },
  {
   "cell_type": "code",
   "execution_count": 393,
   "metadata": {},
   "outputs": [
    {
     "data": {
      "text/plain": [
       "Text(0.5, 0, '$NumberOfMatchedObservationFromControlCensoredOn500$')"
      ]
     },
     "execution_count": 393,
     "metadata": {},
     "output_type": "execute_result"
    },
    {
     "data": {
      "image/png": "[encoded data removed]",
      "text/plain": [
       "<Figure size 432x288 with 1 Axes>"
      ]
     },
     "metadata": {
      "needs_background": "light"
     },
     "output_type": "display_data"
    }
   ],
   "source": [
    "counts_mtaches = [ 200 if (len(ti)> 500)  else len(ti)  for ti in t]\n",
    "plt.hist(counts_mtaches, normed=False)\n",
    "plt.ylabel('$Frequency$')\n",
    "plt.xlabel('$NumberOfMatchedObservationFromControlCensoredOn500$')"
   ]
  },
  {
   "cell_type": "code",
   "execution_count": 394,
   "metadata": {},
   "outputs": [
    {
     "name": "stdout",
     "output_type": "stream",
     "text": [
      "observations with no match\n",
      "415\n",
      "1232\n"
     ]
    }
   ],
   "source": [
    "print(\"observations with no match\")\n",
    "for i in range(len(t)):\n",
    "    if (len(t[i])==0):\n",
    "        print(i)"
   ]
  },
  {
   "cell_type": "code",
   "execution_count": 395,
   "metadata": {},
   "outputs": [],
   "source": [
    "test_scaled['record_id'] = test_scaled.index\n",
    "control_scaled['record_id'] = control_scaled.index\n",
    "\n",
    "test_scaled[trgt_column] = data_scaled.loc[data_scaled[trt_column] == 1][trgt_column].tolist()\n",
    "control_scaled[trgt_column] = data_scaled.loc[data_scaled[trt_column] == 0][trgt_column].tolist()\n",
    "test_scaled[trt_column] = 1\n",
    "control_scaled[trt_column] = 0\n",
    "\n",
    "missed_test = []\n",
    "matched_list = []\n",
    "test_match_id_list = []\n",
    "control_single = []\n",
    "for i in range(len(t)):\n",
    "#for i in range(10):\n",
    "    #print(i)\n",
    "    if (len(t[i])==0):\n",
    "        missed_test.append(test_scaled.index[i]) ##we define indexes of observation that did not find a match\n",
    "    else:\n",
    "        match_id_i = test_scaled.index[i]\n",
    "        #print(match_id_i)\n",
    "        test_match_id_list.append(match_id_i)\n",
    "        cntrl_index_list = t[i]#[control_scaled.index[j] for j in t[i]]\n",
    "        #print(cntrl_index_list)\n",
    "        ii = resample(cntrl_index_list, n_samples=1, replace=True)[0]\n",
    "        #print(ii)\n",
    "        matched_sample_i = control_scaled.loc[control_scaled.index.isin(cntrl_index_list)]\n",
    "        matched_sample_i['match_id'] = match_id_i\n",
    "        control_single.append(matched_sample_i.loc[matched_sample_i.index == ii])\n",
    "        if(matched_sample_i.loc[matched_sample_i.index == ii].shape[0] == 0):\n",
    "            print(\"Hey\")\n",
    "            print(i)\n",
    "            print(match_id_i)\n",
    "            print(cntrl_index_list)\n",
    "            print(ii)\n",
    "        matched_list.append(matched_sample_i)\n",
    "        \n",
    "test_matched_sample_distance_based = test_scaled.loc[test_scaled.index.isin(test_match_id_list)]\n",
    "test_matched_sample_distance_based['match_id'] = test_scaled['record_id']\n",
    "control_matched_sample_distance_based = pd.concat(matched_list,ignore_index=True)\n",
    "\n",
    "single_control_matched_sample_distance_based = pd.concat(control_single,ignore_index=True)"
   ]
  },
  {
   "cell_type": "code",
   "execution_count": 396,
   "metadata": {},
   "outputs": [
    {
     "data": {
      "text/plain": [
       "(1350, 11)"
      ]
     },
     "execution_count": 396,
     "metadata": {},
     "output_type": "execute_result"
    }
   ],
   "source": [
    "single_control_matched_sample_distance_based.shape"
   ]
  },
  {
   "cell_type": "code",
   "execution_count": 397,
   "metadata": {},
   "outputs": [
    {
     "name": "stdout",
     "output_type": "stream",
     "text": [
      "(1350, 11)\n",
      "(1352, 10)\n"
     ]
    }
   ],
   "source": [
    "print(test_matched_sample_distance_based.shape)\n",
    "print(test_scaled.shape)"
   ]
  },
  {
   "cell_type": "code",
   "execution_count": 398,
   "metadata": {},
   "outputs": [
    {
     "data": {
      "text/html": [
       "<div>\n",
       "<style scoped>\n",
       "    .dataframe tbody tr th:only-of-type {\n",
       "        vertical-align: middle;\n",
       "    }\n",
       "\n",
       "    .dataframe tbody tr th {\n",
       "        vertical-align: top;\n",
       "    }\n",
       "\n",
       "    .dataframe thead th {\n",
       "        text-align: right;\n",
       "    }\n",
       "</style>\n",
       "<table border=\"1\" class=\"dataframe\">\n",
       "  <thead>\n",
       "    <tr style=\"text-align: right;\">\n",
       "      <th></th>\n",
       "      <th>race_white</th>\n",
       "      <th>w3momed_hsb</th>\n",
       "      <th>w3income</th>\n",
       "      <th>p5hmage</th>\n",
       "      <th>p5numpla_1</th>\n",
       "      <th>p5numpla_2</th>\n",
       "      <th>p5numpla_3</th>\n",
       "      <th>record_id</th>\n",
       "      <th>c5r2mtsc_sd</th>\n",
       "      <th>catholic</th>\n",
       "      <th>match_id</th>\n",
       "    </tr>\n",
       "  </thead>\n",
       "  <tbody>\n",
       "    <tr>\n",
       "      <th>0</th>\n",
       "      <td>1</td>\n",
       "      <td>0</td>\n",
       "      <td>0.067</td>\n",
       "      <td>0.801</td>\n",
       "      <td>1</td>\n",
       "      <td>0</td>\n",
       "      <td>0</td>\n",
       "      <td>2</td>\n",
       "      <td>0.433</td>\n",
       "      <td>0</td>\n",
       "      <td>3</td>\n",
       "    </tr>\n",
       "    <tr>\n",
       "      <th>1</th>\n",
       "      <td>1</td>\n",
       "      <td>0</td>\n",
       "      <td>0.067</td>\n",
       "      <td>0.489</td>\n",
       "      <td>1</td>\n",
       "      <td>0</td>\n",
       "      <td>0</td>\n",
       "      <td>6</td>\n",
       "      <td>0.327</td>\n",
       "      <td>0</td>\n",
       "      <td>3</td>\n",
       "    </tr>\n",
       "    <tr>\n",
       "      <th>2</th>\n",
       "      <td>1</td>\n",
       "      <td>0</td>\n",
       "      <td>0.067</td>\n",
       "      <td>0.021</td>\n",
       "      <td>1</td>\n",
       "      <td>0</td>\n",
       "      <td>0</td>\n",
       "      <td>13</td>\n",
       "      <td>0.691</td>\n",
       "      <td>0</td>\n",
       "      <td>3</td>\n",
       "    </tr>\n",
       "    <tr>\n",
       "      <th>3</th>\n",
       "      <td>1</td>\n",
       "      <td>0</td>\n",
       "      <td>0.617</td>\n",
       "      <td>0.177</td>\n",
       "      <td>1</td>\n",
       "      <td>0</td>\n",
       "      <td>0</td>\n",
       "      <td>25</td>\n",
       "      <td>0.343</td>\n",
       "      <td>0</td>\n",
       "      <td>3</td>\n",
       "    </tr>\n",
       "    <tr>\n",
       "      <th>4</th>\n",
       "      <td>1</td>\n",
       "      <td>0</td>\n",
       "      <td>0.067</td>\n",
       "      <td>-0.135</td>\n",
       "      <td>1</td>\n",
       "      <td>0</td>\n",
       "      <td>0</td>\n",
       "      <td>26</td>\n",
       "      <td>1.968</td>\n",
       "      <td>0</td>\n",
       "      <td>3</td>\n",
       "    </tr>\n",
       "  </tbody>\n",
       "</table>\n",
       "</div>"
      ],
      "text/plain": [
       "  race_white w3momed_hsb  w3income  p5hmage  p5numpla_1  p5numpla_2  \\\n",
       "0          1           0     0.067    0.801           1           0   \n",
       "1          1           0     0.067    0.489           1           0   \n",
       "2          1           0     0.067    0.021           1           0   \n",
       "3          1           0     0.617    0.177           1           0   \n",
       "4          1           0     0.067   -0.135           1           0   \n",
       "\n",
       "   p5numpla_3  record_id  c5r2mtsc_sd  catholic  match_id  \n",
       "0           0          2        0.433         0         3  \n",
       "1           0          6        0.327         0         3  \n",
       "2           0         13        0.691         0         3  \n",
       "3           0         25        0.343         0         3  \n",
       "4           0         26        1.968         0         3  "
      ]
     },
     "execution_count": 398,
     "metadata": {},
     "output_type": "execute_result"
    }
   ],
   "source": [
    "control_matched_sample_distance_based.head()"
   ]
  },
  {
   "cell_type": "code",
   "execution_count": 399,
   "metadata": {},
   "outputs": [
    {
     "data": {
      "text/html": [
       "<div>\n",
       "<style scoped>\n",
       "    .dataframe tbody tr th:only-of-type {\n",
       "        vertical-align: middle;\n",
       "    }\n",
       "\n",
       "    .dataframe tbody tr th {\n",
       "        vertical-align: top;\n",
       "    }\n",
       "\n",
       "    .dataframe thead th {\n",
       "        text-align: right;\n",
       "    }\n",
       "</style>\n",
       "<table border=\"1\" class=\"dataframe\">\n",
       "  <thead>\n",
       "    <tr style=\"text-align: right;\">\n",
       "      <th></th>\n",
       "      <th>race_white</th>\n",
       "      <th>w3momed_hsb</th>\n",
       "      <th>w3income</th>\n",
       "      <th>p5hmage</th>\n",
       "      <th>p5numpla_1</th>\n",
       "      <th>p5numpla_2</th>\n",
       "      <th>p5numpla_3</th>\n",
       "      <th>record_id</th>\n",
       "      <th>c5r2mtsc_sd</th>\n",
       "      <th>catholic</th>\n",
       "      <th>match_id</th>\n",
       "    </tr>\n",
       "  </thead>\n",
       "  <tbody>\n",
       "    <tr>\n",
       "      <th>3</th>\n",
       "      <td>1</td>\n",
       "      <td>0</td>\n",
       "      <td>0.617</td>\n",
       "      <td>0.021</td>\n",
       "      <td>1</td>\n",
       "      <td>0</td>\n",
       "      <td>0</td>\n",
       "      <td>3</td>\n",
       "      <td>1.399</td>\n",
       "      <td>1</td>\n",
       "      <td>3</td>\n",
       "    </tr>\n",
       "    <tr>\n",
       "      <th>32</th>\n",
       "      <td>1</td>\n",
       "      <td>0</td>\n",
       "      <td>0.067</td>\n",
       "      <td>0.177</td>\n",
       "      <td>0</td>\n",
       "      <td>1</td>\n",
       "      <td>0</td>\n",
       "      <td>32</td>\n",
       "      <td>0.098</td>\n",
       "      <td>1</td>\n",
       "      <td>32</td>\n",
       "    </tr>\n",
       "    <tr>\n",
       "      <th>33</th>\n",
       "      <td>1</td>\n",
       "      <td>0</td>\n",
       "      <td>1.994</td>\n",
       "      <td>0.489</td>\n",
       "      <td>0</td>\n",
       "      <td>1</td>\n",
       "      <td>0</td>\n",
       "      <td>33</td>\n",
       "      <td>1.433</td>\n",
       "      <td>1</td>\n",
       "      <td>33</td>\n",
       "    </tr>\n",
       "    <tr>\n",
       "      <th>34</th>\n",
       "      <td>1</td>\n",
       "      <td>0</td>\n",
       "      <td>0.617</td>\n",
       "      <td>-0.447</td>\n",
       "      <td>1</td>\n",
       "      <td>0</td>\n",
       "      <td>0</td>\n",
       "      <td>34</td>\n",
       "      <td>-0.564</td>\n",
       "      <td>1</td>\n",
       "      <td>34</td>\n",
       "    </tr>\n",
       "    <tr>\n",
       "      <th>35</th>\n",
       "      <td>1</td>\n",
       "      <td>0</td>\n",
       "      <td>1.994</td>\n",
       "      <td>0.489</td>\n",
       "      <td>1</td>\n",
       "      <td>0</td>\n",
       "      <td>0</td>\n",
       "      <td>35</td>\n",
       "      <td>-0.265</td>\n",
       "      <td>1</td>\n",
       "      <td>35</td>\n",
       "    </tr>\n",
       "  </tbody>\n",
       "</table>\n",
       "</div>"
      ],
      "text/plain": [
       "   race_white w3momed_hsb  w3income  p5hmage  p5numpla_1  p5numpla_2  \\\n",
       "3           1           0     0.617    0.021           1           0   \n",
       "32          1           0     0.067    0.177           0           1   \n",
       "33          1           0     1.994    0.489           0           1   \n",
       "34          1           0     0.617   -0.447           1           0   \n",
       "35          1           0     1.994    0.489           1           0   \n",
       "\n",
       "    p5numpla_3  record_id  c5r2mtsc_sd  catholic  match_id  \n",
       "3            0          3        1.399         1         3  \n",
       "32           0         32        0.098         1        32  \n",
       "33           0         33        1.433         1        33  \n",
       "34           0         34       -0.564         1        34  \n",
       "35           0         35       -0.265         1        35  "
      ]
     },
     "execution_count": 399,
     "metadata": {},
     "output_type": "execute_result"
    }
   ],
   "source": [
    "test_matched_sample_distance_based.head()"
   ]
  },
  {
   "cell_type": "markdown",
   "metadata": {},
   "source": [
    "###### 1:N Matching Analysis"
   ]
  },
  {
   "cell_type": "code",
   "execution_count": 400,
   "metadata": {},
   "outputs": [
    {
     "name": "stdout",
     "output_type": "stream",
     "text": [
      "simulation for: c5r2mtsc_sd\n",
      "n simulations: 500\n",
      "test target value mean (trt=0) : 0.1520955965831412\n"
     ]
    },
    {
     "data": {
      "text/plain": [
       "array([0.08346983, 0.13441617, 0.17824511])"
      ]
     },
     "execution_count": 400,
     "metadata": {},
     "output_type": "execute_result"
    }
   ],
   "source": [
    "sim_delta_dist = simulations_for_deltas(test=test_matched_sample_distance_based\n",
    "                      , control=control_matched_sample_distance_based\n",
    "                      , trgt_column=trgt_column\n",
    "                      , match_column='match_id'\n",
    "                      , sumulations_n=sumulations_n)\n",
    "np.quantile(a = sim_delta_dist[trgt_column + '_delta'], q = [0.025, 0.5, 0.975])"
   ]
  },
  {
   "cell_type": "markdown",
   "metadata": {},
   "source": [
    "###### 1:1 Matching Analysis"
   ]
  },
  {
   "cell_type": "code",
   "execution_count": 401,
   "metadata": {},
   "outputs": [
    {
     "name": "stdout",
     "output_type": "stream",
     "text": [
      "------------------\n",
      "t-test\n",
      "\n",
      "  Description catholic = 0\n",
      "     metric            value\n",
      "0      nobs             1350\n",
      "1    minmax  (-3.029, 3.391)\n",
      "2      mean            0.267\n",
      "3  variance            0.927\n",
      "------------------\n",
      "\n",
      "  Description catholic = 1\n",
      "     metric            value\n",
      "0      nobs             1350\n",
      "1    minmax  (-2.665, 3.011)\n",
      "2      mean            0.152\n",
      "3  variance            0.759\n",
      "------------------\n",
      "\n",
      "t.test data\n",
      "Ttest_indResult(statistic=0.0, pvalue=1.0)\n",
      "\n",
      "------------------\n",
      "OLS for TRT parameter\n",
      "------------------\n",
      "                            OLS Regression Results                            \n",
      "==============================================================================\n",
      "Dep. Variable:            c5r2mtsc_sd   R-squared:                       0.004\n",
      "Model:                            OLS   Adj. R-squared:                  0.004\n",
      "Method:                 Least Squares   F-statistic:                     10.50\n",
      "Date:                Mon, 27 Apr 2020   Prob (F-statistic):            0.00121\n",
      "Time:                        01:23:20   Log-Likelihood:                -3599.9\n",
      "No. Observations:                2700   AIC:                             7204.\n",
      "Df Residuals:                    2698   BIC:                             7216.\n",
      "Df Model:                           1                                         \n",
      "Covariance Type:            nonrobust                                         \n",
      "==============================================================================\n",
      "                 coef    std err          t      P>|t|      [0.025      0.975]\n",
      "------------------------------------------------------------------------------\n",
      "Intercept      0.2666      0.025     10.669      0.000       0.218       0.316\n",
      "catholic      -0.1145      0.035     -3.241      0.001      -0.184      -0.045\n",
      "==============================================================================\n",
      "Omnibus:                       26.830   Durbin-Watson:                   1.866\n",
      "Prob(Omnibus):                  0.000   Jarque-Bera (JB):               27.360\n",
      "Skew:                          -0.242   Prob(JB):                     1.15e-06\n",
      "Kurtosis:                       3.091   Cond. No.                         2.62\n",
      "==============================================================================\n",
      "\n",
      "Warnings:\n",
      "[1] Standard Errors assume that the covariance matrix of the errors is correctly specified.\n",
      "\n",
      "------------------\n",
      "OLS for ALL parameters\n",
      "------------------\n",
      "                            OLS Regression Results                            \n",
      "==============================================================================\n",
      "Dep. Variable:            c5r2mtsc_sd   R-squared:                       0.115\n",
      "Model:                            OLS   Adj. R-squared:                  0.113\n",
      "Method:                 Least Squares   F-statistic:                     58.33\n",
      "Date:                Mon, 27 Apr 2020   Prob (F-statistic):           4.29e-68\n",
      "Time:                        01:23:20   Log-Likelihood:                -3440.2\n",
      "No. Observations:                2700   AIC:                             6894.\n",
      "Df Residuals:                    2693   BIC:                             6936.\n",
      "Df Model:                           6                                         \n",
      "Covariance Type:            nonrobust                                         \n",
      "====================================================================================\n",
      "                       coef    std err          t      P>|t|      [0.025      0.975]\n",
      "------------------------------------------------------------------------------------\n",
      "Intercept           -0.0203      0.040     -0.504      0.614      -0.099       0.058\n",
      "race_white[T.1]      0.3627      0.040      9.161      0.000       0.285       0.440\n",
      "w3momed_hsb[T.1]    -0.2995      0.042     -7.116      0.000      -0.382      -0.217\n",
      "catholic            -0.1196      0.033     -3.579      0.000      -0.185      -0.054\n",
      "p5hmage              0.0958      0.021      4.509      0.000       0.054       0.137\n",
      "w3income             0.1310      0.017      7.690      0.000       0.098       0.164\n",
      "p5numpla_2          -0.0279      0.062     -0.451      0.652      -0.149       0.093\n",
      "==============================================================================\n",
      "Omnibus:                       23.070   Durbin-Watson:                   1.967\n",
      "Prob(Omnibus):                  0.000   Jarque-Bera (JB):               23.545\n",
      "Skew:                          -0.215   Prob(JB):                     7.71e-06\n",
      "Kurtosis:                       3.154   Cond. No.                         6.01\n",
      "==============================================================================\n",
      "\n",
      "Warnings:\n",
      "[1] Standard Errors assume that the covariance matrix of the errors is correctly specified.\n"
     ]
    }
   ],
   "source": [
    "many_parameter_str =  'c5r2mtsc_sd ~ catholic + race_white + p5hmage + w3momed_hsb + w3income + p5numpla_2'\n",
    "sample_analysis(dt=pd.concat([test_matched_sample_distance_based\n",
    "                             ,single_control_matched_sample_distance_based]\n",
    "                            ,ignore_index=True)\n",
    "                ,trt_column=trt_column\n",
    "                ,trgt_column=trgt_column\n",
    "                ,one_parameter_str='c5r2mtsc_sd ~ catholic'\n",
    "                ,many_parameter_str= many_parameter_str\n",
    "               )"
   ]
  },
  {
   "cell_type": "markdown",
   "metadata": {},
   "source": [
    "### R vs Python analysis on the same data"
   ]
  },
  {
   "cell_type": "code",
   "execution_count": 402,
   "metadata": {},
   "outputs": [],
   "source": [
    "if (path == path_to_catholic_vs_math_data):\n",
    "    r_data = pd.read_csv('MatchingR.csv', header = 0, sep=\";\")\n",
    "    r_data.columns"
   ]
  },
  {
   "cell_type": "code",
   "execution_count": 403,
   "metadata": {},
   "outputs": [
    {
     "name": "stdout",
     "output_type": "stream",
     "text": [
      "(9267, 10)\n"
     ]
    },
    {
     "data": {
      "text/html": [
       "<div>\n",
       "<style scoped>\n",
       "    .dataframe tbody tr th:only-of-type {\n",
       "        vertical-align: middle;\n",
       "    }\n",
       "\n",
       "    .dataframe tbody tr th {\n",
       "        vertical-align: top;\n",
       "    }\n",
       "\n",
       "    .dataframe thead th {\n",
       "        text-align: right;\n",
       "    }\n",
       "</style>\n",
       "<table border=\"1\" class=\"dataframe\">\n",
       "  <thead>\n",
       "    <tr style=\"text-align: right;\">\n",
       "      <th></th>\n",
       "      <th>target_metric</th>\n",
       "      <th>childid</th>\n",
       "      <th>trt</th>\n",
       "      <th>race_white</th>\n",
       "      <th>p5hmage</th>\n",
       "      <th>w3income</th>\n",
       "      <th>p5numpla</th>\n",
       "      <th>w3momed_hsb</th>\n",
       "      <th>matched</th>\n",
       "      <th>initial_id</th>\n",
       "    </tr>\n",
       "  </thead>\n",
       "  <tbody>\n",
       "    <tr>\n",
       "      <th>0</th>\n",
       "      <td>0.982</td>\n",
       "      <td>0001002C</td>\n",
       "      <td>0</td>\n",
       "      <td>1</td>\n",
       "      <td>47</td>\n",
       "      <td>62,500.500</td>\n",
       "      <td>1</td>\n",
       "      <td>0</td>\n",
       "      <td>-1</td>\n",
       "      <td>1</td>\n",
       "    </tr>\n",
       "    <tr>\n",
       "      <th>1</th>\n",
       "      <td>0.594</td>\n",
       "      <td>0001004C</td>\n",
       "      <td>0</td>\n",
       "      <td>1</td>\n",
       "      <td>41</td>\n",
       "      <td>45,000.500</td>\n",
       "      <td>1</td>\n",
       "      <td>0</td>\n",
       "      <td>-1</td>\n",
       "      <td>2</td>\n",
       "    </tr>\n",
       "    <tr>\n",
       "      <th>2</th>\n",
       "      <td>0.491</td>\n",
       "      <td>0001010C</td>\n",
       "      <td>0</td>\n",
       "      <td>1</td>\n",
       "      <td>43</td>\n",
       "      <td>62,500.500</td>\n",
       "      <td>1</td>\n",
       "      <td>0</td>\n",
       "      <td>-1</td>\n",
       "      <td>4</td>\n",
       "    </tr>\n",
       "    <tr>\n",
       "      <th>3</th>\n",
       "      <td>1.451</td>\n",
       "      <td>0001011C</td>\n",
       "      <td>1</td>\n",
       "      <td>1</td>\n",
       "      <td>38</td>\n",
       "      <td>87,500.500</td>\n",
       "      <td>1</td>\n",
       "      <td>0</td>\n",
       "      <td>6195</td>\n",
       "      <td>5</td>\n",
       "    </tr>\n",
       "    <tr>\n",
       "      <th>4</th>\n",
       "      <td>2.596</td>\n",
       "      <td>0001012C</td>\n",
       "      <td>0</td>\n",
       "      <td>1</td>\n",
       "      <td>47</td>\n",
       "      <td>150,000.500</td>\n",
       "      <td>1</td>\n",
       "      <td>0</td>\n",
       "      <td>-1</td>\n",
       "      <td>6</td>\n",
       "    </tr>\n",
       "  </tbody>\n",
       "</table>\n",
       "</div>"
      ],
      "text/plain": [
       "   target_metric   childid  trt  race_white  p5hmage    w3income  p5numpla  \\\n",
       "0          0.982  0001002C    0           1       47  62,500.500         1   \n",
       "1          0.594  0001004C    0           1       41  45,000.500         1   \n",
       "2          0.491  0001010C    0           1       43  62,500.500         1   \n",
       "3          1.451  0001011C    1           1       38  87,500.500         1   \n",
       "4          2.596  0001012C    0           1       47 150,000.500         1   \n",
       "\n",
       "   w3momed_hsb  matched  initial_id  \n",
       "0            0       -1           1  \n",
       "1            0       -1           2  \n",
       "2            0       -1           4  \n",
       "3            0     6195           5  \n",
       "4            0       -1           6  "
      ]
     },
     "execution_count": 403,
     "metadata": {},
     "output_type": "execute_result"
    }
   ],
   "source": [
    "print(r_data.shape)\n",
    "r_data.head()"
   ]
  },
  {
   "cell_type": "code",
   "execution_count": 404,
   "metadata": {},
   "outputs": [],
   "source": [
    "l = r_data.loc[r_data.matched>-1]['matched'].tolist()\n",
    "test_tmp = r_data.loc[(r_data.trt == 1)]\n",
    "control_tmp = r_data.loc[(r_data.initial_id.isin(l))]"
   ]
  },
  {
   "cell_type": "code",
   "execution_count": 405,
   "metadata": {},
   "outputs": [
    {
     "data": {
      "text/html": [
       "<div>\n",
       "<style scoped>\n",
       "    .dataframe tbody tr th:only-of-type {\n",
       "        vertical-align: middle;\n",
       "    }\n",
       "\n",
       "    .dataframe tbody tr th {\n",
       "        vertical-align: top;\n",
       "    }\n",
       "\n",
       "    .dataframe thead th {\n",
       "        text-align: right;\n",
       "    }\n",
       "</style>\n",
       "<table border=\"1\" class=\"dataframe\">\n",
       "  <thead>\n",
       "    <tr style=\"text-align: right;\">\n",
       "      <th></th>\n",
       "      <th>target_metric</th>\n",
       "      <th>childid</th>\n",
       "      <th>trt</th>\n",
       "      <th>race_white</th>\n",
       "      <th>p5hmage</th>\n",
       "      <th>w3income</th>\n",
       "      <th>p5numpla</th>\n",
       "      <th>w3momed_hsb</th>\n",
       "      <th>matched</th>\n",
       "      <th>initial_id</th>\n",
       "    </tr>\n",
       "  </thead>\n",
       "  <tbody>\n",
       "  </tbody>\n",
       "</table>\n",
       "</div>"
      ],
      "text/plain": [
       "Empty DataFrame\n",
       "Columns: [target_metric, childid, trt, race_white, p5hmage, w3income, p5numpla, w3momed_hsb, matched, initial_id]\n",
       "Index: []"
      ]
     },
     "execution_count": 405,
     "metadata": {},
     "output_type": "execute_result"
    }
   ],
   "source": [
    "test_tmp.loc[test_tmp.index.isin(control_tmp.index)]"
   ]
  },
  {
   "cell_type": "code",
   "execution_count": 406,
   "metadata": {},
   "outputs": [
    {
     "data": {
      "text/html": [
       "<div>\n",
       "<style scoped>\n",
       "    .dataframe tbody tr th:only-of-type {\n",
       "        vertical-align: middle;\n",
       "    }\n",
       "\n",
       "    .dataframe tbody tr th {\n",
       "        vertical-align: top;\n",
       "    }\n",
       "\n",
       "    .dataframe thead th {\n",
       "        text-align: right;\n",
       "    }\n",
       "</style>\n",
       "<table border=\"1\" class=\"dataframe\">\n",
       "  <thead>\n",
       "    <tr style=\"text-align: right;\">\n",
       "      <th></th>\n",
       "      <th>target_metric</th>\n",
       "      <th>childid</th>\n",
       "      <th>trt</th>\n",
       "      <th>race_white</th>\n",
       "      <th>p5hmage</th>\n",
       "      <th>w3income</th>\n",
       "      <th>p5numpla</th>\n",
       "      <th>w3momed_hsb</th>\n",
       "      <th>matched</th>\n",
       "      <th>initial_id</th>\n",
       "    </tr>\n",
       "  </thead>\n",
       "  <tbody>\n",
       "  </tbody>\n",
       "</table>\n",
       "</div>"
      ],
      "text/plain": [
       "Empty DataFrame\n",
       "Columns: [target_metric, childid, trt, race_white, p5hmage, w3income, p5numpla, w3momed_hsb, matched, initial_id]\n",
       "Index: []"
      ]
     },
     "execution_count": 406,
     "metadata": {},
     "output_type": "execute_result"
    }
   ],
   "source": [
    "control_tmp.loc[control_tmp.index.isin(test_tmp.index)]"
   ]
  },
  {
   "cell_type": "code",
   "execution_count": 407,
   "metadata": {},
   "outputs": [
    {
     "name": "stdout",
     "output_type": "stream",
     "text": [
      "------------------\n",
      "t-test\n",
      "\n",
      "  Description trt = 0\n",
      "     metric            value\n",
      "0      nobs             1352\n",
      "1    minmax  (-3.092, 3.434)\n",
      "2      mean            0.373\n",
      "3  variance            0.893\n",
      "------------------\n",
      "\n",
      "  Description trt = 1\n",
      "     metric            value\n",
      "0      nobs             1352\n",
      "1    minmax  (-2.592, 3.055)\n",
      "2      mean            0.210\n",
      "3  variance            0.751\n",
      "------------------\n",
      "\n",
      "t.test data\n",
      "Ttest_indResult(statistic=0.0, pvalue=1.0)\n",
      "\n",
      "------------------\n",
      "OLS for TRT parameter\n",
      "------------------\n",
      "                            OLS Regression Results                            \n",
      "==============================================================================\n",
      "Dep. Variable:          target_metric   R-squared:                       0.008\n",
      "Model:                            OLS   Adj. R-squared:                  0.008\n",
      "Method:                 Least Squares   F-statistic:                     22.04\n",
      "Date:                Mon, 27 Apr 2020   Prob (F-statistic):           2.80e-06\n",
      "Time:                        01:23:21   Log-Likelihood:                -3570.8\n",
      "No. Observations:                2704   AIC:                             7146.\n",
      "Df Residuals:                    2702   BIC:                             7157.\n",
      "Df Model:                           1                                         \n",
      "Covariance Type:            nonrobust                                         \n",
      "==============================================================================\n",
      "                 coef    std err          t      P>|t|      [0.025      0.975]\n",
      "------------------------------------------------------------------------------\n",
      "Intercept      0.3734      0.025     15.142      0.000       0.325       0.422\n",
      "trt           -0.1637      0.035     -4.695      0.000      -0.232      -0.095\n",
      "==============================================================================\n",
      "Omnibus:                       23.120   Durbin-Watson:                   1.753\n",
      "Prob(Omnibus):                  0.000   Jarque-Bera (JB):               23.560\n",
      "Skew:                          -0.229   Prob(JB):                     7.65e-06\n",
      "Kurtosis:                       3.010   Cond. No.                         2.62\n",
      "==============================================================================\n",
      "\n",
      "Warnings:\n",
      "[1] Standard Errors assume that the covariance matrix of the errors is correctly specified.\n",
      "\n",
      "------------------\n",
      "OLS for ALL parameters\n",
      "------------------\n",
      "                            OLS Regression Results                            \n",
      "==============================================================================\n",
      "Dep. Variable:          target_metric   R-squared:                       0.110\n",
      "Model:                            OLS   Adj. R-squared:                  0.108\n",
      "Method:                 Least Squares   F-statistic:                     55.30\n",
      "Date:                Mon, 27 Apr 2020   Prob (F-statistic):           1.25e-64\n",
      "Time:                        01:23:21   Log-Likelihood:                -3424.9\n",
      "No. Observations:                2704   AIC:                             6864.\n",
      "Df Residuals:                    2697   BIC:                             6905.\n",
      "Df Model:                           6                                         \n",
      "Covariance Type:            nonrobust                                         \n",
      "===============================================================================\n",
      "                  coef    std err          t      P>|t|      [0.025      0.975]\n",
      "-------------------------------------------------------------------------------\n",
      "Intercept      -0.4081      0.148     -2.758      0.006      -0.698      -0.118\n",
      "trt            -0.1622      0.033     -4.902      0.000      -0.227      -0.097\n",
      "race_white      0.3039      0.038      7.895      0.000       0.228       0.379\n",
      "p5hmage         0.0115      0.003      3.552      0.000       0.005       0.018\n",
      "w3momed_hsb    -0.3247      0.041     -7.875      0.000      -0.406      -0.244\n",
      "w3income     3.071e-06   3.75e-07      8.198      0.000    2.34e-06    3.81e-06\n",
      "p5numpla       -0.0731      0.055     -1.327      0.185      -0.181       0.035\n",
      "==============================================================================\n",
      "Omnibus:                       15.739   Durbin-Watson:                   1.847\n",
      "Prob(Omnibus):                  0.000   Jarque-Bera (JB):               15.879\n",
      "Skew:                          -0.187   Prob(JB):                     0.000356\n",
      "Kurtosis:                       3.026   Cond. No.                     8.61e+05\n",
      "==============================================================================\n",
      "\n",
      "Warnings:\n",
      "[1] Standard Errors assume that the covariance matrix of the errors is correctly specified.\n",
      "[2] The condition number is large, 8.61e+05. This might indicate that there are\n",
      "strong multicollinearity or other numerical problems.\n"
     ]
    }
   ],
   "source": [
    "many_parameter_str =  'target_metric ~ trt + race_white + p5hmage + w3momed_hsb + w3income + p5numpla'\n",
    "sample_analysis(dt=pd.concat([test_tmp\n",
    "                             ,control_tmp]\n",
    "                            ,ignore_index=True)\n",
    "                ,trt_column='trt'\n",
    "                ,trgt_column='target_metric'\n",
    "                ,one_parameter_str='target_metric ~ trt'\n",
    "                ,many_parameter_str= many_parameter_str\n",
    "               )"
   ]
  },
  {
   "cell_type": "code",
   "execution_count": null,
   "metadata": {},
   "outputs": [],
   "source": []
  }
 ],
 "metadata": {
  "kernelspec": {
   "display_name": "Python 3",
   "language": "python",
   "name": "python3"
  },
  "language_info": {
   "codemirror_mode": {
    "name": "ipython",
    "version": 3
   },
   "file_extension": ".py",
   "mimetype": "text/x-python",
   "name": "python",
   "nbconvert_exporter": "python",
   "pygments_lexer": "ipython3",
   "version": "3.6.7"
  },
  "toc": {
   "base_numbering": 1,
   "nav_menu": {},
   "number_sections": true,
   "sideBar": true,
   "skip_h1_title": false,
   "title_cell": "Table of Contents",
   "title_sidebar": "Contents",
   "toc_cell": false,
   "toc_position": {
    "height": "calc(100% - 180px)",
    "left": "10px",
    "top": "150px",
    "width": "281.325px"
   },
   "toc_section_display": true,
   "toc_window_display": true
  }
 },
 "nbformat": 4,
 "nbformat_minor": 2
}
